{
 "cells": [
  {
   "cell_type": "markdown",
   "metadata": {},
   "source": [
    "หากต้องการใช้ไลบรารีสนับสนุน mlxtend (https://github.com/rasbt/mlxtend) \n",
    "สำหรับพล็อตเส้นแสดงเขตการจำแนก สามารถติดตั้งไลบรารีโดยรันเซลล์ด้านล่าง"
   ]
  },
  {
   "cell_type": "code",
   "execution_count": null,
   "metadata": {},
   "outputs": [],
   "source": [
    "#!pip install mlxtend"
   ]
  },
  {
   "cell_type": "markdown",
   "metadata": {},
   "source": [
    "นำเข้าไลบรารีทั้งหมดที่ใช้งาน"
   ]
  },
  {
   "cell_type": "code",
   "execution_count": 1,
   "metadata": {},
   "outputs": [],
   "source": [
    "import tensorflow as tf\n",
    "from tensorflow.keras.models import Sequential\n",
    "from tensorflow.keras.layers import Dense, Flatten\n",
    "from tensorflow.keras.optimizers import SGD, RMSprop, Adam\n",
    "import numpy as np\n",
    "import matplotlib.pyplot as plt\n",
    "import scipy.io\n",
    "from scipy.io import loadmat\n",
    "import sklearn\n",
    "import sklearn.datasets\n",
    "from mlxtend.plotting import plot_decision_regions"
   ]
  },
  {
   "cell_type": "code",
   "execution_count": 2,
   "metadata": {},
   "outputs": [],
   "source": [
    "%matplotlib inline\n",
    "plt.rcParams['figure.figsize'] = (7.0, 4.0) # set default size of plots\n",
    "plt.rcParams['image.interpolation'] = 'nearest'\n",
    "plt.rcParams['image.cmap'] = 'gray'"
   ]
  },
  {
   "cell_type": "markdown",
   "metadata": {},
   "source": [
    "พื่อความสะดวกจะสร้างฟังก์ชันสำหรับพล็อตความแม่นยำและค่าสูญเสีย โดยสามารถเรียกใช้ในตัวอย่างอื่นที่จะนำเสนอต่อไป"
   ]
  },
  {
   "cell_type": "code",
   "execution_count": 3,
   "metadata": {},
   "outputs": [],
   "source": [
    "def plot_acc_loss(history):\n",
    "    acc=history.history['accuracy']\n",
    "    val_acc=history.history['val_accuracy']\n",
    "    loss=history.history['loss']\n",
    "    val_loss=history.history['val_loss']\n",
    "    epochs=range(len(acc)) # Get number of epochs\n",
    "\n",
    "    acc_txt = str(round(acc[len(acc)-1]*100,2))\n",
    "    val_acc_txt = str(round(val_acc[len(val_acc)-1]*100,2))\n",
    "\n",
    "    fig, (ax1, ax2) = plt.subplots(1,2)\n",
    "    ax1.plot(epochs, acc,'r',epochs,val_acc,'b')\n",
    "    ax1.set_title('Training and validation accuracy')\n",
    "    ax1.legend([\"Training acc = \"+acc_txt+\" %\",\"Validation acc = \"+val_acc_txt+\" %\"])\n",
    "\n",
    "    loss_txt = str(round(loss[len(loss)-1],2))\n",
    "    val_loss_txt = str(round(val_loss[len(val_loss)-1],2))\n",
    "\n",
    "    ax2.plot(epochs, loss, 'r',epochs, val_loss, 'b')\n",
    "    ax2.legend([\"Training loss = \"+loss_txt,\"Validation loss = \"+val_loss_txt])\n",
    "    ax2.set_title('Training and validation loss');\n"
   ]
  },
  {
   "cell_type": "markdown",
   "metadata": {},
   "source": [
    "## 3.4 ขั้นตอนวิธีหาค่าเหมาะที่สุด\n",
    "\n",
    "ตั้งแต่บทที่ 2 เราได้อธิบายวิธีลดค่าเกรเดียนต์ ซึ่งเป็นวิธีการพื้นฐานในการปรับค่าน้ำหนักในทิศทางเข้าสู่ค่าต่ำสุดของฟังก์ชันมูลค่า \n",
    "ในเวลาต่อมาได้มีการนำเสนอขั้นตอนวิธีที่ปรับปรุงให้ทำงานดีขึ้น รวมถึงการจัดข้อมูลเป็นกลุ่มเพื่อลดเวลาการฝึก \n",
    "ในหัวข้อนี้จะกล่าวถึงขั้นตอนวิธีหาค่าเหมาะที่สุดประเภทต่างๆ ที่สามารถเลือกได้จากไลบรารี TF และการฝึกโดยแบ่งกลุ่มข้อมูล\n",
    "\n",
    "### 3.4.1 การแบ่งข้อมูลเป็นกลุ่มย่อย\n",
    "\n",
    "งานด้านการเรียนรู้เชิงลึกมักเกี่ยวข้องกับชุดข้อมูลขนาดใหญ่ เป็นผลทำให้ต้องฝึกโมเดลเป็นเวลานานมากเมื่อใช้ขั้นตอนวิธีลดค่าเกรเดียนต์มาตรฐาน \n",
    "ถึงแม้ว่าการคำนวณเชิงเวกเตอร์จะช่วยลดเวลาในการประมวลผลลงได้ แต่สำหรับกรณีที่ตัวอย่างข้อมูลมีจำนวนมาก เช่น แปดล้านตัวอย่าง \n",
    "เราจะต้องประมวลผลสิบล้านตัวอย่างข้อมูลก่อนที่จะคำนวณหนึ่งขั้นของการลดค่าเกรเดียนต์ \n",
    "\n",
    "เราสามารถลดเวลาฝึกโมเดลได้โดยแบ่งข้อมูลทั้งหมดเป็นกลุ่มย่อย เรียกว่ากลุ่มเล็ก (mini-batch) \n",
    "ซึ่งอาจเป็นจำนวนเท่าไรก็ได้ขึ้นกับว่าชุดข้อมูลทั้งหมดมีมากน้อยเพียงใด ในทางปฏิบัตินิยมเลือกจำนวนเป็นค่ายกกำลังของฐานสอง \n",
    "แต่เพื่อความเข้าใจง่ายจะยกตัวอย่างว่าเลือกจำนวนข้อมูลในกลุ่มเล็กหนึ่งเท่ากับ 2,000 ตัวอย่าง\n",
    "ดังนั้นข้อมูลทั้งหมด 8,000,000 ตัวอย่างจะถูกแบ่งได้เป็น 4,000 กลุ่มเล็ก \n",
    "สัญกรณ์ที่จะใช้แสดงหมายเลขกลุ่มคือเลขยกกำลังภายในวงเล็บปีกกา \n",
    "เช่นกลุ่มเล็กของอินพุต $X^{\\{1\\}},X^{\\{2\\}}, \\ldots, X^{\\{4000\\}}$ และเลเบล $ํY^{\\{1\\}},Y^{\\{2\\}}, \\ldots, Y^{\\{4000\\}}$\n",
    "\n",
    "**หมายเหตุ :** ต้องไม่สับสนกับสัญกรณ์เลขยกกำลังในวงเล็บประเภทอื่นที่ใช้ก่อนหน้านี้ คือ $x^{(i)} $ แทนอินพุตตัวอย่างที่ $i$ \n",
    " และ $a^{[l]}$ แทนเอาต์พุตของชั้นที่ $l$\n",
    "\n",
    "โดยวิธีการแบ่งกลุ่มข้อมูลนี้ ขั้นตอนวิธีลดค่าเกรเดียนต์ปกติอาจถูกเรียกเต็มว่า การลดค่าเกรเดียนต์แบบกลุ่ม (batch) ซึ่งหมายถึงกลุ่มข้อมูลทั้งชุด \n",
    "ส่วนกรณีสุดทางอีกด้านหนึ่งคือเลือกขนาดข้อมูลในกลุ่มเล็กเท่ากับหนึ่งถูกเรียกว่า การลดค่าเกรเดียนต์แบบสโทแคสติก (stochastic) \n",
    "รูปที่ 3.21 เปรียบเทียบขั้นการลดค่าเกรเดียนต์ระหว่างกรณีทั้งสอง \n",
    "จะเห็นว่าวิธีแบบกลุ่มทางด้านซ้ายมีทิศทางในการลดค่าเกรเดียนต์ลงอย่างต่อเนื่อง (เมื่อเลือกขนาดของขั้นไม่ใหญ่เกินไป) แต่จะใช้เวลานาน\n",
    "ส่วนวิธีแบบสโทแคสติกที่ใช้เวลาน้อยกว่าจะมีการแกว่งของทิศทางค่อนข้างมากแม้จะมีแนวโน้มสู่ค่าต่ำสุด \n",
    "และเมื่อเวลาผ่านไปจะไม่เข้าสู่ค่าต่ำสุดอย่างสมบูรณ์แต่จะวนเวียนอยู่โดยรอบ ในทางปฏิบัติมักเลือกทางสายกลาง คือแบ่งข้อมูลเป็นกลุ่มเล็กมากกว่า \n",
    "1 แต่ไม่เท่ากับกลุ่มข้อมูลทั้งหมด (เว้นแต่ว่าชุดข้อมูลทั้งหมดมีขนาดไม่ใหญ่มาก) \n",
    "อีกเหตุผลหนึ่งที่ไม่ควรเลือกวิธีสโทแคสติกคือเราจะเสียสมรรถนะการคำนวณเชิงเวกเตอร์ไป เพราะในหนึ่งลูปจะประมวลผลข้อมูลเพียงตัวอย่างเดียว\n",
    "\n",
    "<p />  \n",
    "<p align=\"center\">\n",
    "<img src=\"https://drive.google.com/uc?id=1WPIif-YhJ9zvYvcQikL23YT2wStK41Nk\" width=550 />\n",
    "</p>\n",
    "<div align=\"center\">รูปที่ 3.21 เปรียบเทียบการลดค่าเกรเดียนต์ระหว่างวิธีแบบกลุ่มกับวิธีสโทแคสติก</div>\n",
    "\n",
    "ไลบรารี TF สนับสนุนการแบ่งกลุ่มข้อมูลโดยมีตัวเลือก batch_size ที่กำหนดได้ใน model.fit() หากไม่มีการกำหนดจะใช้ค่าโดยปริยาย \n",
    "คือ 32 ถ้าต้องการให้กลุ่มเท่ากับข้อมูลทั้งชุดให้กำหนด batch_size = None \n",
    "เนื่องจากตัวอย่างในบทนี้ใช้ข้อมูลขนาดเล็กจึงไม่เห็นผลที่ชัดเจนจากการแบ่งกลุ่มข้อมูล\n",
    "\n",
    "### 3.4.2 วิธีโมเมนตัม\n",
    "\n",
    "จากหัวข้อย่อยที่ผ่านมาจะเห็นว่าผลจากการแบ่งข้อมูลฝึกเป็นกลุ่มเล็กทำให้แต่ละขั้นของการลดค่าเกรเดียนต์มีการแกว่งมากขึ้น \n",
    "สร้างปัญหาให้กับการเลือกอัตราการเรียนรู้ที่เหมาะสม เพราะหากขั้นใหญ่เกินไปอาจทำให้ขั้นตอนวิธีไม่ลู่เข้าสู่ค่าเหมาะที่สุด \n",
    "หรือหากเล็กเกินไปก็จะใช้เวลานานหรือติดอยู่ที่ค่าต่ำสุดเฉพาะที่ (local minimum)\n",
    "\n",
    "เพื่อความเข้าใจจะยกตัวอย่างที่ทำให้ง่ายขึ้นดังรูปที่ 3.22 โดยสมมุติว่าพารามิเตอร์อยู่ในระนาบ 2 มิติและมีค่าต่ำสุดที่ศูนย์กลางของคอนทัวร์ \n",
    "ลูกศรแสดงค่าของพารามิเตอร์ที่ถูกปรับในแต่ละขั้น สังเกตได้ว่าค่ามีการแกว่งค่อนข้างมากในแกนที่ตั้งฉากกับแนวโน้มเข้าสู่คำต่ำสุด \n",
    "แนวคิดคือต้องการใช้อัตราการเรียนรู้ที่แตกต่างกันสำหรับแต่ละแกน โดยใช้อัตราที่สูงกว่าทิศทางที่มีแนวโน้มเข้าสู่ค่าต่ำสุดอย่างสม่ำเสมอ\n",
    "\n",
    "<p />  \n",
    "<p align=\"center\">\n",
    "<img src=\"https://drive.google.com/uc?id=1UlHqITFRCcqTUkTaZ-A4xGPdpHNwnXRb\" width=450 />\n",
    "</p>\n",
    "<div align=\"center\">รูปที่ 3.22 อัตราการเรียนรู้สำหรับการลดค่าเกรเดียนต์</div>\n",
    "\n",
    "วิธีการปรับปรุงตัวหาค่าเหมาะที่สุดโดยลดผลกระทบจากการแกว่งของพารามิเตอร์อาศัยหลักการของค่าเฉลี่ยที่ให้น้ำหนักแบบเลขชี้กำลัง \n",
    "(exponentially weighted averages) เรียกโดยย่อว่า EWA ที่รวมรายละเอียดไว้ในภาคผนวก A \n",
    "วิธีแรกที่จะกล่าวถึงคือการเพิ่มโมเมนตัม (momentum)ให้กับการลดค่าเกรเดียนต์ ต่อไปจะเรียกว่าวิธีโมเมนตัมเพื่อความกระชับ \n",
    "โดยทั่วไปแล้ววิธีโมเมนตัมสามารถทำงานเร็วกว่าการลดค่าเกรเดียนต์แบบปกติ ช่วยลดเวลาในการฝึกโมเดลลงได้\n",
    "\n",
    "จากตัวอย่างในรูปที่ 3.22 การแกว่งในทิศทางของแกนที่ตั้งฉากกับแนวโน้มสู่ค่าต่ำสุดทำให้เราไม่สามารถใช้อัตราการเรียนรู้ที่เร็วได้ \n",
    "เพราะอาจทำให้ขั้นตอนวิธีไม่เสถียร ดังนั้นจึงต้องการกรองการรบกวนนี้โดย EWA ขั้นตอนวิธีโมเมนตัมมีเค้าโครงดังนี้\n",
    "\n",
    "* กำหนดตัวแปร $V_{dW}, V_{db}$ ที่จะใช้ปรับค่าพารามิเตอร์ $W, b$ ในแต่ละขั้น โดยตั้งค่าเริ่มต้นเป็นศูนย์\n",
    "\n",
    "ในการวนรอบที่ $k$:\n",
    "* คำนวณค่า $dW, db$ สำหรับข้อมูลกลุ่มย่อยขณะนั้น\n",
    "* คำนวณการเปลี่ยนแปลงของตัวแปร $V_{dW}, V_{db}$\n",
    "$$\n",
    "V_{dW} = \\beta_1 V_{dW} + (1 - \\beta_1)dW \\tag{3.13}\n",
    "$$\n",
    "$$\n",
    "V_{db} = \\beta_1 V_{db} + (1 - \\beta_1)db \\tag{3.14}\n",
    "$$\n",
    "* ปรับค่าพารามิเตอร์โดยใช้ $V_{dW}, V_{db}$ แทนค่าที่เปลี่ยนแปลงในแต่ละขั้น\n",
    "$$\n",
    "W := W - \\alpha V_{dW} \\tag{3.15}\n",
    "$$\n",
    "$$\n",
    "b := b - \\alpha V_{db} \\tag{3.16}\n",
    "$$\n",
    "\n",
    "โดย $\\beta_1$ คือค่าไฮเปอร์พารามิเตอร์ใหม่สำหรับวิธีโมเมนตัม ทำหน้าที่เหมือนกับ $\\beta$ ในภาคผนวก A \n",
    "แต่เหตุผลที่ใช้ตัวห้อย 1 เพื่อมิให้สับสนกับไฮเปอร์พารามิเตอร์ตัวอื่นที่เพิ่มขึ้นเมื่อขยายไปยังวิธีการอื่นที่จะกล่าวถึงต่อไป\n",
    "ผลของการปรับพารามิเตอร์โดยวิธีโมเมนตัมคือทำให้การแกว่งลดลงจากการใช้ค่าเฉลี่ยแทนค่าของ $dW, db$ \n",
    "\n",
    "สำหรับผู้ที่มีความรู้ด้านฟิสิกส์สามารถเข้าใจหลักการของวิธีโมเมนตัมได้โดยเปรียบพจน์ $dW, db$ \n",
    "กับความเร่งของลูกบอลที่ไหลลงเนินสู่จุดต่ำสุด (หากมองรูปที่ 3.22 เป็นรูปชาม 3 มิติ) และพจน์โมเมนตัม $V_{dW}, V_{db}$\n",
    "เปรียบได้กับความเร็วของลูกบอล ดังนั้น $\\beta_1$ เปรียบได้กับแรงเสียดทานที่จะป้องกันมิให้ลูกบอลมีความเร็วเพิ่มขึ้นโดยไร้ขีดจำกัด \n",
    "\n",
    "สังเกตว่าไฮเปอร์พารามิเตอร์ของวิธีโมเมนตัมจะเพิ่มเป็น 2 ตัวคืออัตราการเรียนรู้ $\\alpha$ และตัวควบคุม EWA คือ $\\beta_1$ \n",
    "ค่าที่นิยมใช้คือ $\\beta_1 = 0.9$ และสำหรับวิธีโมเมนตัมในทางปฎิบัติมักไม่มีการแก้ไขค่าเอนเอียง\n",
    "เนื่องจากไม่มีผลกระทบมากนัก\n",
    "\n",
    "บางครั้งเราอาจพบการอิมพลิเมนต์วิธีโมเมนตัมที่แตกต่างจาก (3.13)-(3.14) เล็กน้อย คือละทิ้งตัวประกอบ $(1-\\beta_1)$ \n",
    "$$\n",
    "V_{dW} = \\beta_1 V_{dW} + dW \\tag{3.17}\n",
    "$$\n",
    "$$\n",
    "V_{db} = \\beta_1 V_{db} + db \\tag{3.18}\n",
    "$$\n",
    "โดยวิธีการนี้ค่าของ $\\alpha$ จะต้องถูกชดเชยโดยค่า $(1-\\beta_1)^{-1}$ ซึ่งอาจทำให้การปรับแต่งไฮเปอร์พารามิเตอร์ยุ่งยากขึ้น \n",
    "\n",
    "ในการเรียกใช้วิธีโมเมนตัมสำหรับไลบรารี TF จะมีตัวเลือก momentum ในตัวหาค่าเหมาะที่สุดแบบ SGD()\n",
    "ซึ่งเมื่อกำหนดค่ามากกว่าศูนย์จะเพิ่มพจน์โมเมนตัมในการปรับค่า (โจทย์ปัญหา 3-6)"
   ]
  },
  {
   "cell_type": "markdown",
   "metadata": {},
   "source": [
    "### 3.4.3 วิธีการแพร่กระจายแบบรากกำลังสองเฉลี่ย\n",
    "\n",
    "ขั้นตอนวิธีการหาค่าเหมาะที่สุดอีกรูปแบบหนึ่งที่ทำให้การลดค่าเกรเดียนต์ทำงานเร็วขึ้นคือ วิธีการแพร่กระจายแบบรากกำลังสองเฉลี่ย\n",
    "(root mean square propagation) นิยมเรียกย่อว่า RMSprop \n",
    "\n",
    "อ้างถึงรูปที่ 3.22 เพื่อความง่ายในการอธิบายจะสมมุติว่าค่าพารามิเตอร์ในทิศทางที่มีการแกว่งคือ $b$ \n",
    "และค่าที่มีแนวโน้มเข้าสู่ศูนย์กลางของคอนทัวร์อย่างสม่ำเสมอคือ $W$ (ในความเป็นจริงจะเป็นระบบหลายมิติที่ไม่สามารถบรรยายโดยภาพได้ \n",
    "ค่าพารามิเตอร์ที่แกว่งมาก/น้อยเป็นเซ็ตย่อยของพารามิเตอร์ทั้งหมด) ดังนั้้นความต้องการคือกำหนดอัตราการเรียนรู้ต่ำในทิศทางของ \n",
    "$b$ และอัตราสูงกว่าในทิศทางของ $W$ ขั้นตอนวิธี RMSprop มีเค้าโครงดังนี้\n",
    "\n",
    "* กำหนดตัวแปร $S_{dW}, S_{db}$ ที่จะใช้ปรับค่าพารามิเตอร์ $W, b$ ในแต่ละขั้น โดยตั้งค่าเริ่มต้นเป็นศูนย์\n",
    "\n",
    "ในการวนรอบที่ $k$:\n",
    "* คำนวณค่า $dW, db$ สำหรับข้อมูลกลุ่มย่อยขณะนั้น\n",
    "* คำนวณการเปลี่ยนแปลงของตัวแปร $S_{dW}, S_{db}$\n",
    "$$\n",
    "S_{dW} = \\beta_2 S_{dW} + (1 - \\beta_2)(dW)^2 \\tag{3.19}\n",
    "$$\n",
    "$$\n",
    "S_{db} = \\beta_2 S_{db} + (1 - \\beta_2)(db)^2 \\tag{3.20}\n",
    "$$\n",
    "โดย $dW^2, db^2$ คือการยกกำลังสองสำหรับแต่ละสมาชิก (element-wise) และไฮเปอร์พารามิเตอร์สำหรับวิธี \n",
    "RMSprop คือ $\\beta_2$ จะใช้ตัวห้อย 2 เพื่อให้แตกต่างจากที่ใช้ในวิธีโมเมนตัม \n",
    "\n",
    "* ปรับค่าพารามิเตอร์โดยใช้ $dW, db$ ที่ถูกปรับมาตราส่วนโดยรากกำลังสองของ $S_{dW}, S_{db}$ \n",
    "สำหรับค่า $\\epsilon$ เป็นค่าน้อยเช่น $10^{-8}$ มีไว้เพื่อป้องกันปัญหาจากการหารด้วยศููนย์\n",
    "$$\n",
    "W := W - \\alpha \\frac{dW}{\\sqrt{S_{dW}}+\\epsilon} \\tag{3.21}\n",
    "$$\n",
    "$$\n",
    "b := b - \\alpha \\frac{db}{\\sqrt{S_{db}}+\\epsilon}  \\tag{3.22}\n",
    "$$\n",
    "\n",
    "เมื่อดูเค้าโครงแล้วคงพอเข้าใจถึงเหตุผลที่เรียกวิธีการนี้ว่า \"การแพร่กระจายแบบรากกำลังสองเฉลี่ย\" จากข้อสมมุติก่อนหน้านี้ \n",
    "ในทิศทางของพารามิเตอร์ $b$ ที่มีการแกว่งมากกว่า $W$ ทำให้ค่ากำลังสองของความชัน $(db)^2$ \n",
    "จะมีค่าสูงกว่า $(dW)^2$ ส่งผลให้ $S_{db}$ มีค่าสูงกว่า $S_{dW}$ \n",
    "ดังนั้นอัตราการปรับค่าพารามิเตอร์ $b$ จะต่ำกว่าอัตราการปรับค่า $W$ เนื่องจากถูกหารด้วยพจน์ $\\sqrt{S_{db}}$ \n",
    "ที่มีค่าสูงกว่า $\\sqrt{S_{dW}}$ \n",
    "\n",
    "สรุปสำหรับกรณีทั่วไป ตัวหาค่าเหมาะที่สุดแบบ RMSprop จะปรับอัตราการเรียนรู้ของพารามิเตอร์ที่มีการแกว่ง (ความชันสูง) \n",
    "ให้น้อยกว่าอัตราของพารามิเตอร์ที่เรียบ (ความชันต่ำ) \n",
    "ซึ่งจะช่วยทำให้การลดค่าเกรเดียนต์ทำได้เร็วขึ้นโดยไม่เกิดการลู่ออกของพารามิเตอร์ที่มีการแกว่งมาก\n",
    "\n",
    "ในไลบรารี TF มีตัวหาค่าเหมาะที่สุดแบบ rmsprop ให้เลือกใช้ โดยใน model.compile() กำหนด optimizer=RMSprop \n",
    "หรือสร้างออปเจ็กในบรรทัดต่างหากเพื่อกำหนดค่าอาร์กิวเมนต์ได้ \n",
    "\n",
    "### 3.4.4 วิธีการ Adam\n",
    "\n",
    "Adam มิใช่ชื่อบุคคลหรือรัสพจน์แต่เป็นขั้นตอนวิธีหาค่าเหมาะที่สุดที่อนุพัทธ์จาก \"adaptive moment estimation\" \n",
    "เป็นเสมือนการต่อยอดจากวิธีโมเมนตัมและ RMSprop มีเค้าโครงเป็นดังนี้\n",
    "\n",
    "* กำหนดตัวแปร $V_{dW}, V_{db}, S_{dW}, S_{db}$ ที่จะใช้ปรับค่าพารามิเตอร์ $W, b$ ในแต่ละขั้น โดยตั้งค่าเริ่มต้นเป็นศูนย์\n",
    "\n",
    "ในการวนรอบที่ $k$:\n",
    "* คำนวณค่า $dW, db$ สำหรับข้อมูลกลุ่มย่อยขณะนั้น\n",
    "* คำนวณการเปลี่ยนแปลงของตัวแปร $V_{dW}, V_{db}, S_{dW}, S_{db}$\n",
    "$$\n",
    "V_{dW} = \\beta_1 V_{dW} + (1 - \\beta_1)dW \\tag{3.33}\n",
    "$$\n",
    "$$\n",
    "V_{db} = \\beta_1 V_{db} + (1 - \\beta_1)db \\tag{3.34}\n",
    "$$\n",
    "$$\n",
    "S_{dW} = \\beta_2 S_{dW} + (1 - \\beta_2)(dW)^2 \\tag{3.35}\n",
    "$$\n",
    "$$\n",
    "S_{db} = \\beta_2 S_{db} + (1 - \\beta_2)(db)^2 \\tag{3.36}\n",
    "$$\n",
    "โดย $dW^2, db^2$ คือการยกกำลังสองสำหรับแต่ละสมาชิก (element-wise) และสำหรับวิธี Adam \n",
    "จะใช้การแก้ไขค่าเอนเอียงกับ $V_{dW}, V_{db}, S_{dW}, S_{db}$ แทนด้วยตัวแปร \n",
    "$V_{dWc}, V_{dbc},S_{dWc}, S_{dbc}$\n",
    "$$\n",
    "V_{dWc}= \\frac{V_{dW}}{(1-\\beta_1^k)} \\tag{3.37}\n",
    "$$\n",
    "$$\n",
    "V_{dbc} = \\frac{V_{db}}{(1-\\beta_1^k)} \\tag{3.38}\n",
    "$$\n",
    "$$\n",
    "S_{dWc} = \\frac{S_{dW}}{(1-\\beta_2^k)} \\tag{3.39}\n",
    "$$\n",
    "$$\n",
    "S_{dbc} = \\frac{S_{db}}{(1-\\beta_2^k)} \\tag{3.40}\n",
    "$$\n",
    "* ปรับค่าพารามิเตอร์โดยใช้ $V_{dWc}, V_{dbc}$ \n",
    "ที่ถูกปรับมาตราส่วนโดยรากกำลังสองของ $S_{dWc}, S_{dbc}$ \n",
    "สำหรับค่า $\\epsilon$ เป็นค่าน้อยเช่น $10^{-8}$ มีไว้เพื่อป้องกันปัญหาจากการหารด้วยศููนย์\n",
    "$$\n",
    "W := W - \\alpha \\frac{V_{dWc}}{\\sqrt{S_{dWc}}+\\epsilon} \\tag{3.41}\n",
    "$$\n",
    "$$\n",
    "b := b - \\alpha \\frac{V_{dbc}}{\\sqrt{S_{dbc}}+\\epsilon}  \\tag{3.42}\n",
    "$$\n",
    "\n",
    "จะเห็นว่าวิธีการ Adam มีไฮเปอร์พารามิเตอร์หลายตัว ค่าที่แนะนำในเบื้องต้นคือ\n",
    "\n",
    "* อัตราการเรียนรู้ $\\alpha$ ต้องมีการปรับแต่ง\n",
    "* ตั้งค่า $\\beta_1 = 0.9$ \n",
    "* ตั้งค่า $\\beta_2 = 0.999$ \n",
    "* กำหนด $\\epsilon = 10^{-8}$ (ค่านี้ไม่มีผลมากนักกับสมรรถนะ)\n",
    "\n",
    "**ตัวอย่าง 3.7**\n",
    "\n",
    "ต้องการทดลองใช้ขั้นตอนวิธีหาค่าเหมาะที่สุด 3 แบบกับข้อมูลที่มีให้ในไลบรารี sklearn คือ moons \n",
    "เป็นการจำแนกทวิภาคจุดข้อมูลที่มีลักษณะเหมือนจันทร์เสี้ยว 2 ดวงคาบเกี่ยวกันดังเช่นในรูปที่ 3.23 เขียนฟังก์ชัน \n",
    "load_moons_dataset() และเรียกใช้เพื่อจัดรูปข้อมูลสำหรับฝึกและทดสอบ "
   ]
  },
  {
   "cell_type": "code",
   "execution_count": 4,
   "metadata": {},
   "outputs": [],
   "source": [
    "def load_moons_dataset():\n",
    "    np.random.seed(3)\n",
    "    train_X, train_Y = sklearn.datasets.make_moons(n_samples=300, noise=.2) #300 #0.2 \n",
    "    np.random.seed(2)\n",
    "    test_X, test_Y = sklearn.datasets.make_moons(n_samples=100, noise=.2) #100 #0.2 \n",
    "    train_Y = train_Y[:,np.newaxis]\n",
    "    test_Y = test_Y[:,np.newaxis]\n",
    "    \n",
    "    for i in range(len(train_Y)):\n",
    "        if train_Y[i,0] == 1:\n",
    "            plt.scatter(train_X[i,0],train_X[i,1],c='orange', marker='^',s=40)\n",
    "        else:\n",
    "            plt.scatter(train_X[i,0],train_X[i,1],c='blue', marker='s',s=40)    \n",
    "    \n",
    "    return train_X, train_Y, test_X, test_Y"
   ]
  },
  {
   "cell_type": "code",
   "execution_count": 5,
   "metadata": {},
   "outputs": [
    {
     "data": {
      "image/png": "[encoded data removed]",
      "text/plain": [
       "<Figure size 504x288 with 1 Axes>"
      ]
     },
     "metadata": {
      "needs_background": "light"
     },
     "output_type": "display_data"
    }
   ],
   "source": [
    "train_X, train_Y, test_X, test_Y = load_moons_dataset()"
   ]
  },
  {
   "cell_type": "markdown",
   "metadata": {},
   "source": [
    "รูปที่ 3.23 ชุดข้อมูลสองประเภทที่เรียงตัวรูปจันทร์เสี้ยว 2 ดวง\n",
    "\n",
    "สร้างโมเดล 3 ชั้นที่มีเซลล์แต่ละชั้นเท่ากับ 5,2,1 "
   ]
  },
  {
   "cell_type": "code",
   "execution_count": 6,
   "metadata": {},
   "outputs": [],
   "source": [
    "model = Sequential([\n",
    "    Flatten(input_shape=[2]),\n",
    "    Dense(5,  activation='relu'),\n",
    "    Dense(2,  activation = 'relu'),\n",
    "    Dense(1, activation = 'sigmoid')\n",
    "])"
   ]
  },
  {
   "cell_type": "markdown",
   "metadata": {},
   "source": [
    "การกำหนดตัวหาค่าเหมาะที่สุดจะอยู่ในขั้้นตอนคอมไพล์ โดยจะเปรียบเทียบระหว่างวิธี SGD() ที่ตั้งค่า momentum=0.9 \n",
    "วิธี RMSprop() และวิธี Adam() ใช้อัตราการเรียนรู้ 0.01 ผู้อ่านสามารถเลือกระหว่าง 3 คำสั่งในเซลล์นี้ \n",
    "โดยสามารถทดลองเพิ่มการกำหนดค่าไฮเปอร์พารามิเตอร์ได้ตามต้องการ \n"
   ]
  },
  {
   "cell_type": "code",
   "execution_count": 7,
   "metadata": {},
   "outputs": [],
   "source": [
    "# choose your optimizer\n",
    "model.compile(optimizer=SGD(learning_rate=0.01,momentum=0.9),loss='binary_crossentropy', metrics=['accuracy'])\n",
    "#model.compile(optimizer=RMSprop(learning_rate=0.01),loss='binary_crossentropy', metrics=['accuracy'])\n",
    "#model.compile(optimizer=Adam(learning_rate=0.01),loss='binary_crossentropy', metrics=['accuracy'])"
   ]
  },
  {
   "cell_type": "markdown",
   "metadata": {},
   "source": [
    "ผึกจำนวน 5000 รอบ โดยแบ่งข้อมูลฝึกเป็นกลุ่มเล็กขนาด 32 พล็อตค่าความแม่นยำและค่าสูญเสียจากการฝึก รวมถึงเส้นแบ่งอาณาเขตเปรียบเทียบกันได้ผลดังในรูปที่ \n",
    "3.24 พบว่ามีสมรรถนะใกล้เคียงกัน  "
   ]
  },
  {
   "cell_type": "code",
   "execution_count": 8,
   "metadata": {},
   "outputs": [
    {
     "data": {
      "image/png": "[encoded data removed]",
      "text/plain": [
       "<Figure size 504x288 with 2 Axes>"
      ]
     },
     "metadata": {
      "needs_background": "light"
     },
     "output_type": "display_data"
    }
   ],
   "source": [
    "history = model.fit(train_X, train_Y, epochs=5000, batch_size=32,validation_data=(test_X,test_Y),verbose=0)\n",
    "plot_acc_loss(history)"
   ]
  },
  {
   "cell_type": "code",
   "execution_count": 9,
   "metadata": {},
   "outputs": [
    {
     "name": "stdout",
     "output_type": "stream",
     "text": [
      "4536/4536 [==============================] - 4s 971us/step\n"
     ]
    },
    {
     "data": {
      "image/png": "[encoded data removed]",
      "text/plain": [
       "<Figure size 504x288 with 1 Axes>"
      ]
     },
     "metadata": {
      "needs_background": "light"
     },
     "output_type": "display_data"
    }
   ],
   "source": [
    "plot_decision_regions(test_X, np.squeeze(test_Y), clf=model, legend=2)\n",
    "plt.xlim([-1.5,2.5])\n",
    "plt.ylim([-1.0,1.5])\n",
    "plt.show()"
   ]
  },
  {
   "cell_type": "markdown",
   "metadata": {},
   "source": [
    "<p />  \n",
    "<p align=\"center\">\n",
    "<img src=\"https://drive.google.com/uc?id=1zjvOGP62DQD2SDS_3Yf2torQ6sMF9OKA\" width750 />\n",
    "</p>\n",
    "<div align=\"center\">รูปที่ 3.24 เปรียบเทียบผลจากการใช้ตัวหาค่าเหมาะที่สุด 3 ประเภท</div>\n",
    "\n",
    "### 3.4.5 การลดระดับอัตราการเรียนรู้\n",
    "\n",
    "ในตัวอย่างที่ผ่านมาเราได้กำหนดอัตราการเรียนรู้เป็นค่าคงที่ตลอดการฝึก ข้อเสียคือเมื่อมีการแบ่งข้อมูลกลุ่มเล็กหรือใช้วิธีสโทแคสติก (รูปที่ 3.21) \n",
    "ค่าพารามิเตอร์ที่ถูกปรับแต่ละขั้นยังคงมีขนาดใหญ่แม้เข้าใกล้จุดต่ำสุด ดังนั้นเราสามารถปรับปรุงสมรรถนะของโมเดลได้โดยปรับค่าของอัตราเรียนรู้ให้มีค่าลดลงตามจำนวนรอบการฝึก\n",
    "หลักการนี้เรียกว่า การลดระดับอัตราการเรียนรู้ (learning rate decay)\n",
    "\n",
    "วิธีการพื้นฐานคือ ตั้งค่าอัตราการเรียนรู้ให้ขึ้นกับรอบของการประมวลผลข้อมูลทั้งชุด (ภาษาอังกฤษใช้คำว่า \"epoch\") \n",
    "\n",
    "$$\n",
    "\\alpha = \\frac{1}{1+decay\\_rate*epoch\\_no}\\alpha_0 \\tag{3.43}\n",
    "$$\n",
    "\n",
    "โดย $\\alpha_0$ คือค่าเริ่มต้นของอัตราการเรียนรู้ $decay\\_rate$ คืออัตราการลดระดับ และ $epoch\\_no$ คือหมายเลขของจำนวนรอบการฝึกเริ่มจาก \n",
    "$1,2,\\ldots$ ตัวอย่างเช่นเมื่อกำหนด $\\alpha_0 = 0.2, decay\\_rate = 1$ \n",
    "ค่าอัตราการเรียนรู้เทียบกับจำนวนรอบจะมีค่า $0.1, 0.067, 0.05, 0.04, \\ldots $\n",
    "\n",
    "วิธีการอื่นที่มีการใช้งานกันคือการลดระดับเชิงเลขชี้กำลัง \n",
    "\n",
    "$$\n",
    "\\alpha = 0.95^{epoch\\_no}\\alpha_0 \\tag{3.44}\n",
    "$$\n",
    "\n",
    "หรือในรูปตัวประกอบการลดระดับอื่นๆ เช่น\n",
    "\n",
    "$$\n",
    "\\alpha = \\frac{k}{\\sqrt{epoch\\_no}} \\alpha_0 \\tag{3.45}\n",
    "$$\n",
    "\n",
    "โดย $k$ คือค่าคงที่ การลดระดับอัตราการเรียนรู้อาจเป็นแบบไม่ต่อเนื่องก็ได้ สังเกตว่าใน (3.43)-(3.45) \n",
    "การลดระดับจะอยู่ในรูปสมการทางคณิตศาสตร์ อีกวิธีหนึ่งที่นิยมใช้คือการวัดค่าความแม่นยำหรือค่าสูญเสียระหว่างการฝึก \n",
    "เพื่อปรับค่าอัตราการเรียนรู้ให้เหมาะสม หากใช้ไลบรารี TF สามารถเขียนฟังก์ชันเรียกกลับเพื่อทำงานดังกล่าวได้ "
   ]
  },
  {
   "cell_type": "markdown",
   "metadata": {},
   "source": [
    "<p align=\"center\">\n",
    "<img src=\"https://drive.google.com/thumbnail?id=13bzT7Rmy3bzvE7TiS0yfQo94kpxMuipF\" alt=\"dewninja\"/>\n",
    "</p>\n",
    "<div align=\"center\">dew.ninja 2022</div>"
   ]
  }
 ],
 "metadata": {
  "kernelspec": {
   "display_name": "Python 3.8 (tensorflow)",
   "language": "python",
   "name": "tensorflow"
  },
  "language_info": {
   "codemirror_mode": {
    "name": "ipython",
    "version": 3
   },
   "file_extension": ".py",
   "mimetype": "text/x-python",
   "name": "python",
   "nbconvert_exporter": "python",
   "pygments_lexer": "ipython3",
   "version": "3.8.11"
  }
 },
 "nbformat": 4,
 "nbformat_minor": 4
}
