{
 "cells": [
  {
   "cell_type": "markdown",
   "metadata": {},
   "source": [
    "หากต้องการใช้ไลบรารีสนับสนุน mlxtend (https://github.com/rasbt/mlxtend) \n",
    "สำหรับพล็อตเส้นแสดงเขตการจำแนก สามารถติดตั้งไลบรารีโดยรันเซลล์ด้านล่าง"
   ]
  },
  {
   "cell_type": "code",
   "execution_count": null,
   "metadata": {},
   "outputs": [],
   "source": [
    "#!pip install mlxtend"
   ]
  },
  {
   "cell_type": "markdown",
   "metadata": {},
   "source": [
    "นำเข้าไลบรารีทั้งหมดที่ใช้งาน"
   ]
  },
  {
   "cell_type": "code",
   "execution_count": 1,
   "metadata": {},
   "outputs": [],
   "source": [
    "import tensorflow as tf\n",
    "from tensorflow.keras.models import Sequential\n",
    "from tensorflow.keras.layers import Dense, Flatten\n",
    "from tensorflow.keras.optimizers import SGD, RMSprop, Adam\n",
    "import numpy as np\n",
    "import matplotlib.pyplot as plt\n",
    "import scipy.io\n",
    "from scipy.io import loadmat\n",
    "import sklearn\n",
    "import sklearn.datasets\n",
    "from mlxtend.plotting import plot_decision_regions"
   ]
  },
  {
   "cell_type": "code",
   "execution_count": 2,
   "metadata": {},
   "outputs": [],
   "source": [
    "%matplotlib inline\n",
    "plt.rcParams['figure.figsize'] = (7.0, 4.0) # set default size of plots\n",
    "plt.rcParams['image.interpolation'] = 'nearest'\n",
    "plt.rcParams['image.cmap'] = 'gray'"
   ]
  },
  {
   "cell_type": "markdown",
   "metadata": {},
   "source": [
    "พื่อความสะดวกจะสร้างฟังก์ชันสำหรับพล็อตความแม่นยำและค่าสูญเสีย โดยสามารถเรียกใช้ในตัวอย่างอื่นที่จะนำเสนอต่อไป"
   ]
  },
  {
   "cell_type": "code",
   "execution_count": null,
   "metadata": {},
   "outputs": [],
   "source": [
    "def plot_acc_loss(history):\n",
    "    acc=history.history['accuracy']\n",
    "    val_acc=history.history['val_accuracy']\n",
    "    loss=history.history['loss']\n",
    "    val_loss=history.history['val_loss']\n",
    "    epochs=range(len(acc)) # Get number of epochs\n",
    "\n",
    "    acc_txt = str(round(acc[len(acc)-1]*100,2))\n",
    "    val_acc_txt = str(round(val_acc[len(val_acc)-1]*100,2))\n",
    "\n",
    "    fig, (ax1, ax2) = plt.subplots(1,2)\n",
    "    ax1.plot(epochs, acc,'r',epochs,val_acc,'b')\n",
    "    ax1.set_title('Training and validation accuracy')\n",
    "    ax1.legend([\"Training acc = \"+acc_txt+\" %\",\"Validation acc = \"+val_acc_txt+\" %\"])\n",
    "\n",
    "    loss_txt = str(round(loss[len(loss)-1],2))\n",
    "    val_loss_txt = str(round(val_loss[len(val_loss)-1],2))\n",
    "\n",
    "    ax2.plot(epochs, loss, 'r',epochs, val_loss, 'b')\n",
    "    ax2.legend([\"Training loss = \"+loss_txt,\"Validation loss = \"+val_loss_txt])\n",
    "    ax2.set_title('Training and validation loss');\n"
   ]
  },
  {
   "cell_type": "markdown",
   "metadata": {},
   "source": [
    "## 3.5 การทำกลุ่มให้เป็นบรรทัดฐาน\n",
    "\n",
    "หัวข้อ 3.3.1 ได้กล่าวถึงการทำอินพุตให้เป็นบรรทัดฐานโดยหักค่าเฉลี่ยและใช้ความแปรปรวนปรับมาตราส่วน \n",
    "ซึ่งสามารถช่วยทำให้การฝึกข้อมูลทำงานเร็วขึ้น เราสามารถขยายหลักการนี้เพื่อใช้กับชั้นแฝงภายในโครงข่ายประสาทเทียมได้ \n",
    "เรียกวิธีนี้ว่า การทำกลุ่มให้เป็นบรรทัดฐาน (batch normalization) ถูกนำเสนอโดย Sergey Ioffe \n",
    "และ Christian Szegedy ในปี ค.ศ. 2015 ต่อไปจะเรียกโดยย่อว่า แบตช์นอร์ม \n",
    "\n",
    "แนวคิดของวิธีแบตช์นอร์มคือ พิจารณาชั้นแฝง $l$ ใน DNN ในการฝึกเพื่อปรับค่าพารามิเตอร์ $W^{[l]},b^{[l]}$ \n",
    "อินพุตของชั้นแฝงนี้คือ $a^{[l-1]}$ ซึ่งจากหลักการที่อธิบายในหัวข้อ 3.3.1 ต้องการเลื่อนและปรับมาตราส่วนข้อมูล $a^{[l-1]}$ \n",
    "เพื่อให้การปรับค่าพารามิเตอร์ $W^{[l]},b^{[l]}$ ทำได้อย่างมีประสิทธิภาพขึ้น อย่างไรก็ตามในการใช้วิธีแบตช์นอร์ม \n",
    "พบว่านิยมปรับค่าของ $z^{[l-1]}$ ซึ่งเป็นเอาต์พุตเชิงเส้นของชั้นก่อนหน้าก่อนจะผ่านฟังก์ชันกระตุ้น \n",
    "\n",
    "การอิมพลิเมนต์แบตช์นอร์มทำได้ดังนี้ พิจารณาชั้น $l$ ของ DNN เอาต์พุตในส่วนเชิงเส้นคือ $z^{(1)}, \\ldots, z^{(m)}$\n",
    "(เพื่อให้อ่านง่ายขึ้นจะละเว้นการระบุชั้น โดยเขียน $z^{(i)}$ แทน $z^{[l](i)}$) \n",
    "\n",
    "* คำนวณค่าเฉลี่ย\n",
    "$$\n",
    "\\mu = \\frac{1}{m}\\sum_{i=1}^mz^{(i)} \\tag{3.46}\n",
    "$$\n",
    "\n",
    "* คำนวณค่าความแปรปรวน\n",
    "$$\n",
    "\\sigma^2 = \\frac{1}{m}\\sum_{i=1}^m(z^{(i)}-\\mu)^2 \\tag{3.47}\n",
    "$$\n",
    "\n",
    "*ปรับค่าเอาต์พุต $z^{(i)}$ ให้เป็นบรรทัดฐาน\n",
    "$$\n",
    "z_{norm}^{(i)} = \\frac{z^{(i)}-\\mu}{\\sqrt{\\sigma^2+\\epsilon}} \\tag{3.48}\n",
    "$$\n",
    "\n",
    "โดย $\\epsilon$ ที่มีค่าน้อย ใส่ไว้เพื่อความเสถียรเชิงเลขกรณีที่ $\\sigma^2 = 0$ \n",
    "แต่ว่าในกรณีของเซลล์ชั้นแฝงเราไม่ต้องการให้เอาต์พุตมีค่าเฉลี่ยเป็นศูนย์และความแปรปรวนหนึ่งหน่วยตลอดเวลา \n",
    "ดังนั้นจะปรับค่าเป็น\n",
    "$$\n",
    "\\tilde{z}^{(i)} = \\gamma z_{norm}^{(i)} + \\beta \\tag{3.49}\n",
    "$$\n",
    "\n",
    "และใช้ค่านี้ผ่านเข้าฟังก์ชันกระตุ้นแทน $z^{(i)}$ เดิม โดยค่าของ $\\alpha, \\beta$ คือพารามิเตอร์ที่เรียนรู้ได้ (learnable parameters) \n",
    "คือสามารถใช้ขั้นตอนวิธีลดค่าเกรเดียนต์ประเภทต่างๆ ที่กล่าวถึงแล้วในการปรับค่าพารามิเตอร์เข้าสู่ค่าเหมาะที่สุด \n",
    "สังเกตว่าค่า $\\beta$ ในวิธีแบตช์นอร์มนี้ไม่มีส่วนเกี่ยวข้องใดๆ กับ $\\beta$ ของวิธี EWA ที่กล่าวถึงในหัวข้อก่อนหน้านี้ \n",
    "เหตุผลเพียงต้องการคงไว้ให้เหมือนในบทความต้นกำเนิดสำหรับผู้ที่ต้องการศึกษาเพิ่มเติมจากบทความ \n",
    "\n",
    "ผลกระทบของ $\\alpha, \\beta$ คือช่วยทำให้เราสามารถปรับ $\\tilde{z}^{(i)}$ \n",
    "ให้มีค่าเฉลี่ยและค่าความแปรปรวนตามต้องการก่อนผ่านเข้าสู่ฟังก์ชันกระตุ้นของชั้นแฝงนั้น \n",
    "ซึ่งวิธีการแบตช์นอร์มสามารถถูกใช้กับชั้นแฝงใดๆ ของ DNN \n",
    "ในการอิมพลิเมนต์โดยเขียนโค้ดเองอาจลดทอนความซับซ้อนของสมการลงได้เมื่อพิจารณาว่าค่าเอนเอียง $b$ และตัวแปร $\\beta$ มีความซ้ำซ้อนกัน \n",
    "ทำให้สามารถตัดค่าเอนเอียง $b$ ทิ้งไปได้ อย่างไรก็ตาม ในการใช้ไลบรารีเช่น TF เราสามารถกำหนดชั้นแบตช์นอร์มได้โดยไม่จำเป็นต้องอิมพลิเมนต์ \n",
    "(3.46) - (3.49) เพียงสอดแทรกชั้น BatchNormalization() ในโมเดลตามตำแหน่งที่ต้องการ"
   ]
  },
  {
   "cell_type": "markdown",
   "metadata": {},
   "source": [
    "**ตัวอย่าง 3.8**\n",
    "\n",
    "ในตัวอย่างนี้จะสร้างโมเดล DNN สำหรับจำแนกเซตข้อมูล The Street View House Number (SVHN) จากเว็บไซต์ \n",
    "http://ufldl.stanford.edu/housenumbers/ โดยภาพจะเป็นเลขที่บ้านจริงที่เก็บภาพจาก Google Street View ซึ่งเป็นปัญหาที่ยากกว่าภาพจาก \n",
    "MNIST ถึงแม้ว่าจะเป็นการจำแนกตัวเลข 0 - 9 เช่นเดียวกัน แต่ละภาพมีขนาด 32 x 32 ตัวอย่างภาพแสดงในรูปที่ 3.25\n",
    "\n",
    "<p />  \n",
    "<p align=\"center\">\n",
    "<img src=\"https://drive.google.com/uc?id=1zUgIFiiVQ61syZAghK1hVELEWz6ZvLRT\" width750 />\n",
    "</p>\n",
    "<div align=\"center\">รูปที่ 3.25 ตัวอย่างภาพจากเซตข้อมูล The Street View House Number (SVHN) \n",
    "<br>http://ufldl.stanford.edu/housenumbers/</div>\n",
    "\n",
    "เข้าไปที่ลิงก์ของเว็บไซต์เพื่อดาวน์โหลดไฟล์ train_32x32.mat, test_32x32.mat เก็บในไดเรคทอรีย่อย /data \n",
    "หลังจากนั้นใช้ฟังก์ชัน loadmat() ของไลบรารี scipy.io เพื่อโหลดภาพ"
   ]
  },
  {
   "cell_type": "code",
   "execution_count": 3,
   "metadata": {},
   "outputs": [],
   "source": [
    "train = loadmat('data/train_32x32.mat')\n",
    "test = loadmat('data/test_32x32.mat')"
   ]
  },
  {
   "cell_type": "markdown",
   "metadata": {},
   "source": [
    "โดย train และ test คือดิกชันนารีที่มีคีย์ x และ y สำหรับภาพอินพุตและเลเบลตามลำดับ โดยมีจำนวนตัวอย่างฝึก 73257 และตัวอย่างทดสอบ 26032\n",
    "ขั้นต่อมาคือแยกภาพและเลเบลสำหรับฝึกและทดสอบจากดิกชันนารี \n",
    "และเพื่อให้สอดคล้องกับรูปเทนเซอร์ที่ใช้กับโมเดล TF จะต้องสลับแกนให้จำนวนตัวอย่างเป็นมิติแรก"
   ]
  },
  {
   "cell_type": "code",
   "execution_count": 5,
   "metadata": {},
   "outputs": [],
   "source": [
    "train_images_rgb, train_labels = train['X'],train['y']\n",
    "test_images_rgb, test_labels = test['X'],test['y']\n",
    "\n",
    "train_images_rgb = np.moveaxis(train_images_rgb, 3,0) # permute axis so that number of samples come first\n",
    "test_images_rgb = np.moveaxis(test_images_rgb, 3,0)\n",
    "N = train_images_rgb.shape[0]"
   ]
  },
  {
   "cell_type": "markdown",
   "metadata": {},
   "source": [
    "เนื่องจากภาพสีไม่มีความสำคัญสำหรับการจำแนกในโจทย์ปัญหานี้ เราจะแปลงภาพเป็นสีเทาและปรับมาตราส่วนให้แต่ละพิกเซลมีค่า 0 - 1 \n",
    "เพื่อทำให้ฝึกโมเดลได้มีประสิทธิภาพมากขึ้น (ป้องกันปัญหาค่าเกรเดียนต์สูงเกิน) ทดลองสุ่มภาพเพื่อแสดงจำนวน 10 ภาพ"
   ]
  },
  {
   "cell_type": "code",
   "execution_count": 8,
   "metadata": {},
   "outputs": [
    {
     "data": {
      "image/png": "[encoded data removed]",
      "text/plain": [
       "<Figure size 720x72 with 10 Axes>"
      ]
     },
     "metadata": {
      "needs_background": "light"
     },
     "output_type": "display_data"
    }
   ],
   "source": [
    "train_images = np.mean(train_images_rgb,axis=-1,keepdims=True)/255.\n",
    "test_images = np.mean(test_images_rgb,axis=-1,keepdims=True)/255.\n",
    "m = np.random.choice(N,10)\n",
    "fig, ax = plt.subplots(1, 10, figsize=(10, 1))\n",
    "for i in range(10):\n",
    "    ax[i].set_axis_off()\n",
    "    ax[i].set_title(np.array2string(train_labels[m[i]]))\n",
    "    ax[i].imshow(np.squeeze(train_images[m[i]]),cmap='gray')"
   ]
  },
  {
   "cell_type": "markdown",
   "metadata": {},
   "source": [
    "มีอีกจุดหนึ่งที่ต้องแก้ไขสำหรับชุดข้อมูลนี้คือภาพที่แสดงเลข 0 จะมีเลเบลเป็น 10 เราจะเปลี่ยนเลเบลเป็น 0 "
   ]
  },
  {
   "cell_type": "code",
   "execution_count": 9,
   "metadata": {},
   "outputs": [],
   "source": [
    "train_labels = np.where(train_labels==10,0,train_labels)\n",
    "test_labels = np.where(test_labels==10,0,test_labels)"
   ]
  },
  {
   "cell_type": "markdown",
   "metadata": {},
   "source": [
    "นำเข้าไลบรารีทั้งหมดที่ต้องการใช้ในการสร้างโมเดล DNN"
   ]
  },
  {
   "cell_type": "code",
   "execution_count": 10,
   "metadata": {},
   "outputs": [],
   "source": [
    "from tensorflow.keras.models import Sequential\n",
    "from tensorflow.keras.layers import Dense, Flatten, BatchNormalization\n",
    "from tensorflow.keras.callbacks import Callback, EarlyStopping, LearningRateScheduler \n",
    "from tensorflow.keras.optimizers import Adam"
   ]
  },
  {
   "cell_type": "markdown",
   "metadata": {},
   "source": [
    "เราจะทดลองใช้โมเดลที่มีชั้นปกติ 4 ชั้น มีเซลล์ 128, 256, 128, 10 และคั่นแต่ละชั้นแฝงด้วยชั้นแบตช์นอร์ม \n",
    "แต่ละชั้นใช้ฟังก์ชันกระตุ้นแบบ ReLU ยกเว้นชั้นเอาต์พุตที่เป็นแบบ softmax\n",
    "(ผู้อ่านสามารถทดลองปรับหรือเพิ่มชั้นในโมเดลตามใจชอบ)"
   ]
  },
  {
   "cell_type": "code",
   "execution_count": 11,
   "metadata": {},
   "outputs": [],
   "source": [
    "model = Sequential([\n",
    "    Flatten(input_shape=(32,32,1)),\n",
    "    Dense(128, activation='relu'),\n",
    "    BatchNormalization(),\n",
    "    Dense(256, activation = 'relu'),\n",
    "    BatchNormalization(),\n",
    "    Dense(128, activation = 'relu'),\n",
    "    BatchNormalization(),\n",
    "    Dense(10, activation = 'softmax')    \n",
    "])\n"
   ]
  },
  {
   "cell_type": "code",
   "execution_count": 12,
   "metadata": {},
   "outputs": [
    {
     "name": "stdout",
     "output_type": "stream",
     "text": [
      "Model: \"sequential\"\n",
      "_________________________________________________________________\n",
      "Layer (type)                 Output Shape              Param #   \n",
      "=================================================================\n",
      "flatten (Flatten)            (None, 1024)              0         \n",
      "_________________________________________________________________\n",
      "dense (Dense)                (None, 128)               131200    \n",
      "_________________________________________________________________\n",
      "batch_normalization (BatchNo (None, 128)               512       \n",
      "_________________________________________________________________\n",
      "dense_1 (Dense)              (None, 256)               33024     \n",
      "_________________________________________________________________\n",
      "batch_normalization_1 (Batch (None, 256)               1024      \n",
      "_________________________________________________________________\n",
      "dense_2 (Dense)              (None, 128)               32896     \n",
      "_________________________________________________________________\n",
      "batch_normalization_2 (Batch (None, 128)               512       \n",
      "_________________________________________________________________\n",
      "dense_3 (Dense)              (None, 10)                1290      \n",
      "=================================================================\n",
      "Total params: 200,458\n",
      "Trainable params: 199,434\n",
      "Non-trainable params: 1,024\n",
      "_________________________________________________________________\n"
     ]
    }
   ],
   "source": [
    "model.summary()"
   ]
  },
  {
   "cell_type": "markdown",
   "metadata": {},
   "source": [
    "คอมไพล์โดยเลือกตัวหาค่าเหมาะที่สุดแบบ Adam อัตราการเรียนรู้ 0.001 "
   ]
  },
  {
   "cell_type": "code",
   "execution_count": 13,
   "metadata": {},
   "outputs": [],
   "source": [
    "model.compile(optimizer=Adam(learning_rate=0.001),\n",
    "             loss='sparse_categorical_crossentropy',\n",
    "             metrics=['accuracy'])"
   ]
  },
  {
   "cell_type": "markdown",
   "metadata": {},
   "source": [
    "ในการฝึกเราจะใช้วิธีการลดระดับอัตราการเรียนรู้ตามสมการ (3.43) โดยกำหนด $decay\\_rate = 1$ เขียนเป็นฟังก์ชัน scheduler() ได้ดังนี้"
   ]
  },
  {
   "cell_type": "code",
   "execution_count": 14,
   "metadata": {},
   "outputs": [],
   "source": [
    "def scheduler(epoch, lr):\n",
    "    return lr * (1/(1+epoch))"
   ]
  },
  {
   "cell_type": "markdown",
   "metadata": {},
   "source": [
    "สร้างเป็นฟังก์ชันเรียกกลับ LearningRateScheduler() "
   ]
  },
  {
   "cell_type": "code",
   "execution_count": 15,
   "metadata": {},
   "outputs": [],
   "source": [
    "lr_scheduler = LearningRateScheduler(scheduler, verbose=1)"
   ]
  },
  {
   "cell_type": "markdown",
   "metadata": {},
   "source": [
    "สำหรับฟังก์ชันเรียกกลับอีกตัวหนึ่งจะใช้เป็นแบบ EarlyStopping() เพื่อลดการฟิตเกิน"
   ]
  },
  {
   "cell_type": "code",
   "execution_count": 16,
   "metadata": {},
   "outputs": [],
   "source": [
    "early_stopping = EarlyStopping(patience=3, monitor='val_accuracy', mode='max')"
   ]
  },
  {
   "cell_type": "markdown",
   "metadata": {},
   "source": [
    "ใส่ค่าอาร์กิวเมนต์ของ model.fit() โดยเลืกจำนวนการฝึก 30 รอบ ขนาดกลุ่มเล็ก 256 แบ่งข้อมูล 15% สำหรับตรวจสอบ \n",
    "และกำหนดค่าฟังก์ชันเรียกกลับที่สร้างไว้"
   ]
  },
  {
   "cell_type": "code",
   "execution_count": 17,
   "metadata": {},
   "outputs": [
    {
     "name": "stdout",
     "output_type": "stream",
     "text": [
      "Epoch 1/30\n",
      "\n",
      "Epoch 00001: LearningRateScheduler setting learning rate to 0.0010000000474974513.\n",
      "244/244 [==============================] - 2s 5ms/step - loss: 1.2752 - accuracy: 0.5945 - val_loss: 1.5027 - val_accuracy: 0.5138\n",
      "Epoch 2/30\n",
      "\n",
      "Epoch 00002: LearningRateScheduler setting learning rate to 0.0005000000237487257.\n",
      "244/244 [==============================] - 1s 4ms/step - loss: 0.7923 - accuracy: 0.7576 - val_loss: 1.1212 - val_accuracy: 0.6352\n",
      "Epoch 3/30\n",
      "\n",
      "Epoch 00003: LearningRateScheduler setting learning rate to 0.00016666667458290854.\n",
      "244/244 [==============================] - 1s 4ms/step - loss: 0.6693 - accuracy: 0.7987 - val_loss: 0.8090 - val_accuracy: 0.7485\n",
      "Epoch 4/30\n",
      "\n",
      "Epoch 00004: LearningRateScheduler setting learning rate to 4.166666985838674e-05.\n",
      "244/244 [==============================] - 1s 4ms/step - loss: 0.6211 - accuracy: 0.8133 - val_loss: 0.6745 - val_accuracy: 0.7954\n",
      "Epoch 5/30\n",
      "\n",
      "Epoch 00005: LearningRateScheduler setting learning rate to 8.333333971677348e-06.\n",
      "244/244 [==============================] - 1s 4ms/step - loss: 0.6061 - accuracy: 0.8182 - val_loss: 0.6576 - val_accuracy: 0.7987\n",
      "Epoch 6/30\n",
      "\n",
      "Epoch 00006: LearningRateScheduler setting learning rate to 1.388889055912538e-06.\n",
      "244/244 [==============================] - 1s 4ms/step - loss: 0.6031 - accuracy: 0.8181 - val_loss: 0.6550 - val_accuracy: 0.7987\n",
      "Epoch 7/30\n",
      "\n",
      "Epoch 00007: LearningRateScheduler setting learning rate to 1.9841271685956077e-07.\n",
      "244/244 [==============================] - 1s 4ms/step - loss: 0.6030 - accuracy: 0.8183 - val_loss: 0.6547 - val_accuracy: 0.7988\n",
      "Epoch 8/30\n",
      "\n",
      "Epoch 00008: LearningRateScheduler setting learning rate to 2.4801590114975625e-08.\n",
      "244/244 [==============================] - 1s 4ms/step - loss: 0.6013 - accuracy: 0.8182 - val_loss: 0.6549 - val_accuracy: 0.7983\n",
      "Epoch 9/30\n",
      "\n",
      "Epoch 00009: LearningRateScheduler setting learning rate to 2.7557322349972915e-09.\n",
      "244/244 [==============================] - 1s 4ms/step - loss: 0.6016 - accuracy: 0.8191 - val_loss: 0.6549 - val_accuracy: 0.7989\n",
      "Epoch 10/30\n",
      "\n",
      "Epoch 00010: LearningRateScheduler setting learning rate to 2.75573230901216e-10.\n",
      "244/244 [==============================] - 1s 4ms/step - loss: 0.6030 - accuracy: 0.8184 - val_loss: 0.6546 - val_accuracy: 0.7983\n",
      "Epoch 11/30\n",
      "\n",
      "Epoch 00011: LearningRateScheduler setting learning rate to 2.5052111900110546e-11.\n",
      "244/244 [==============================] - 1s 4ms/step - loss: 0.6018 - accuracy: 0.8196 - val_loss: 0.6548 - val_accuracy: 0.7987\n",
      "Epoch 12/30\n",
      "\n",
      "Epoch 00012: LearningRateScheduler setting learning rate to 2.087675952250345e-12.\n",
      "244/244 [==============================] - 1s 4ms/step - loss: 0.6019 - accuracy: 0.8183 - val_loss: 0.6546 - val_accuracy: 0.7988\n"
     ]
    }
   ],
   "source": [
    "history=model.fit(train_images, train_labels, epochs=30, batch_size=256, validation_split = 0.15,\n",
    "                  callbacks=[lr_scheduler,early_stopping])"
   ]
  },
  {
   "cell_type": "markdown",
   "metadata": {},
   "source": [
    "จากเอาต์พุตจะเห็นว่าในแต่ละรอบค่าอัตราการเรียนรู้ลดลงตาม (3.43) และจะหยุดการฝึกเมื่อเงื่อนไขที่กำหนดใน EarlyStopping() เป็นจริง \n",
    "พล็อตค่าความแม่นยำและค่าสูญเสียได้ดังในรูปที่ 3.26"
   ]
  },
  {
   "cell_type": "code",
   "execution_count": 19,
   "metadata": {},
   "outputs": [
    {
     "data": {
      "image/png": "[encoded data removed]",
      "text/plain": [
       "<Figure size 504x288 with 2 Axes>"
      ]
     },
     "metadata": {
      "needs_background": "light"
     },
     "output_type": "display_data"
    }
   ],
   "source": [
    "plot_acc_loss(history)"
   ]
  },
  {
   "cell_type": "markdown",
   "metadata": {},
   "source": [
    "รูปที่ 3.26 ค่าความแม่นยำและค่าสูญเสียสำหรับตัวอย่าง 3.8 \n",
    "\n",
    "เราสามารถประเมินความแม่นยำและค่าสูญเสียจากภาพที่ใช้ทดสอบโดยคำสั่ง model.evaluate() "
   ]
  },
  {
   "cell_type": "code",
   "execution_count": 20,
   "metadata": {},
   "outputs": [
    {
     "name": "stdout",
     "output_type": "stream",
     "text": [
      "Test loss: 0.738\n",
      "Test accuracy: 77.86%\n"
     ]
    }
   ],
   "source": [
    "test_loss, test_acc = model.evaluate(test_images, test_labels, verbose=0)\n",
    "print(\"Test loss: {:.3f}\\nTest accuracy: {:.2f}%\".format(test_loss, 100 * test_acc))"
   ]
  },
  {
   "cell_type": "markdown",
   "metadata": {},
   "source": [
    "รูปที่ 3.27 แสดงการสุ่มภาพจำนวน 5 ภาพจากชุดข้อมูลทดสอบ และดูผลการพยากรณ์จากโมเดลเปรียบเทียบกับเลเบลจริง \n",
    "กราฟแท่งทางด้านขวาแสดงค่าความน่าจะเป็นจากชั้นเอาต์พุตของโมเดล ซึ่งค่าสูงสุดคือตัวเลขที่โมเดลพยากรณ์\n",
    "รันเซลล์ด้านล่างหลายครั้งเพื่อเปลี่ยนภาพ สังเกตภาพที่โมเดลพยากรณ์ไม่ถูกต้องว่ามีองค์ประกอบใดที่สร้างความสับสน "
   ]
  },
  {
   "cell_type": "code",
   "execution_count": 22,
   "metadata": {},
   "outputs": [
    {
     "data": {
      "image/png": "[encoded data removed]",
      "text/plain": [
       "<Figure size 864x864 with 10 Axes>"
      ]
     },
     "metadata": {
      "needs_background": "light"
     },
     "output_type": "display_data"
    }
   ],
   "source": [
    "num_test_images = test_images.shape[0]\n",
    "random_inx = np.random.choice(num_test_images, 5)\n",
    "random_test_images = test_images[random_inx, ...]\n",
    "random_test_labels = test_labels[random_inx, ...]\n",
    "\n",
    "DNN_predictions = model.predict(random_test_images) \n",
    "\n",
    "fig, axes = plt.subplots(5, 2, figsize=(12, 12))\n",
    "fig.subplots_adjust(hspace=0.4, wspace=-0.2)\n",
    "\n",
    "for i, (prediction, image, label) in enumerate(zip(DNN_predictions, random_test_images, random_test_labels)):\n",
    "    axes[i, 0].imshow(np.squeeze(image),cmap='gray')\n",
    "    axes[i, 0].get_xaxis().set_visible(False)\n",
    "    axes[i, 0].get_yaxis().set_visible(False)\n",
    "    axes[i, 0].text(10., -1.5, f'Digit {label}')\n",
    "    axes[i, 1].bar(np.arange(len(prediction)), prediction)\n",
    "    axes[i, 1].set_xticks(np.arange(len(prediction)))\n",
    "    axes[i, 1].set_title(f\"Model prediction: {np.argmax(prediction)}\")\n",
    "\n",
    "plt.show()"
   ]
  },
  {
   "cell_type": "markdown",
   "metadata": {},
   "source": [
    "รูปที่ 3.27 ผลการพยากรณ์ภาพโดยโมเดล DNN\n",
    "\n",
    "## 3.6 สรุปท้ายบท\n",
    "\n",
    "เนื้อหาในบทนี้กล่าวถึงการปรับปรุงโมเดล DNN เพื่อเพิ่มประสิทธิภาพการเรียนรู้ โดยประกอบด้วยหลายส่วนตั้งแต่การจัดรูปข้อมูลเพื่อช่วยให้การฝึกง่ายและเร็วขึ้น \n",
    "การลดการฟิตเกินโดยทำเรกูลาร์ไรเซชันแบบต่างๆ วิธีดรอปเอาต์ และการหยุดฝึกตามเงื่อนไขที่กำหนด \n",
    "การกำหนดค่าเริ่มต้นของพารามิเตอร์สามารถช่วยให้ขั้นตอนวิธีลดค่าเกรเดียนต์ทำงานเร็วขึ้นโดยไม่ทำให้เกรเดียนต์มีค่ามากหรือน้อยเกินไป \n",
    "\n",
    "จากขั้นตอนวิธีลดค่าเกรเดียนต์ขั้นพื้นฐานได้มีการปรับปรุงสมรรถนะโดยเพิ่มพจน์ที่ช่วยลดทอนการแกว่งของความชันพารามิเตอร์ โดยทั่วไปวิธีการโมเมนตัม \n",
    "RMSprop หรือ Adam จะให้ผลดีกว่า SGD ดังนั้นจึงเป็นที่นิยมในการฝึกโมเดล โดยอาจใช้ร่วมกับวิธีการลดระดับอัตราการเรียนรู้ตามจำนวนรอบการฝึก \n",
    "\n",
    "การเพิ่มชั้นแบตช์นอร์มเป็นอีกวิธีหนึ่งในการปรับปรุงโมเดล โดยหลักการคือทำให้ค่าเฉลี่ยและความแปรปรวนของเอาต์พุตของชั้นแฝงเป็นพารามิเตอร์ที่เรียนรู้ได้ \n",
    "ทำให้มีค่าเหมาะสมสำหรับฟังก์ชันกระตุ้นในชั้นแฝงนั้น \n",
    "\n",
    "ถึงแม้ว่าโดยภาพรวมแล้วโมเดล DNN จะประกอบด้วยไฮเปอร์พารามิเตอร์หลายตัว แต่จะพบว่าบางตัวไม่มีผลกระทบเด่นชัดกับสมรรถนะการเรียนรู้ \n",
    "ตัวอย่างเช่นค่า $\\epsilon$ ที่ใส่ไว้เพื่อป้องกันการหารด้วยค่าศูนย์จะไม่เห็นความแตกต่างระหว่างค่า $10^{-6}, 10^{-7}, 10^{-8}$ \n",
    "ดังนั้นจึงไม่ควรเสียเวลาเพื่อแปรค่าไฮเปอร์พารามิเตอร์ตัวนี้ แตกต่างจากอัตราการเรียนรู้ $\\alpha$ ซึ่งอาจต้องใช้เวลาในการปรับแต่งเพื่อให้ได้ผลดี\n",
    "\n",
    "การปรับแต่งค่าไฮเปอร์พารามิเตอร์เป็นเพียงการทำให้โมเดลมีคุณภาพดีที่สุดเท่าที่จะทำได้สำหรับสถาปัตยกรรมโครงข่ายประสาทเทียมที่ใช้อยู่ \n",
    "หากพบว่าความแม่นยำยังไม่เป็นที่พอใจอาจต้องพิจารณาสถาปัตยกรรมอื่นที่เหมาะสมสำหรับโจทย์ปัญหานั้น ตัวอย่างเช่นในการจำแนกภาพโดยทั่วไป \n",
    "เรามักจะพบว่าการปรับแต่งไฮเปอร์พารามิเตอร์ไม่สามารถช่วยให้โมเดล DNN มีความแม่นยำสูงเกิน 90% ได้ \n",
    "ในบทต่อไปจะกล่าวถึงสถาปัตยกรรมที่เหมาะสมกว่าสำหรับงานจำแนกภาพ\n"
   ]
  },
  {
   "cell_type": "markdown",
   "metadata": {},
   "source": [
    "## โจทย์ปัญหา\n",
    "\n",
    "3-1 จากชุดข้อมูลที่มีให้ในไลบรารี sklearn ดังโจทย์ปัญหาข้อ 2-4 เขียนโค้ดไพธอนเพื่อสุ่มแยกข้อมูลเป็นชุดฝึกและชุดทดสอบตามอัตราส่วนที่กำหนด \n",
    "เช่น 80%, 20 % \n",
    "\n",
    "3-2 ในการฝึกโมเดลโดยไลบรารี TF เราสามารถกันข้อมูลส่วนหนึ่งเป็นชุดสำหรับตรวจสอบได้โดยใช้อาร์กิวเมนต์ \n",
    "validation_split ในเมธอด model.fit() เช่น validation_split=0.2 จะแยกข้อมูล 20% จากข้อมูลทั้งหมดสำหรับใช้ตรวจสอบ \n",
    "สร้างโมเดลเพื่อฝึกโดยใช้ข้อมูลจากโจทย์ข้อ 3-1 เปรียบเทียบระหว่างโมเดลเส้นฐาน การทำเรกูลาร์ไรเซชัน และดรอปเอาต์\n",
    "\n",
    "3-3 จากตัวอย่าง 3.5 ทดลองฝึกโมเดลด้วยจำนวนรอบที่มากขึ้น ผลการจำแนกมีความแม่นยำมากขึ้นหรือไม่ อธิบาย\n",
    "\n",
    "3-4 จากตัวอย่าง 3.5 ตั้งค่าเริ่มต้นของค่าน้ำหนัก $W \\in [a,b]$ โดยทดลองแปรค่าต่ำสุดและสูงสุด (อาจเลือกเป็นค่าลบได้โดย $a<b$) เพื่อดูผลที่เกิดขึ้น \n",
    "ท่านสามารถหาค่าของ $a, b$ ที่ให้ผลการพยากรณ์เป็นที่น่าพอใจได้หรือไม่\n",
    "\n",
    "3-5 มีการนำเสนอการตั้งค่าเริ่มต้นเพื่อกำหนดความแปรปรวนของ $W^{[l]}$ ในรูปแบบอื่นเช่น $\\frac{2}{n^{[l-1]}+n^{[l]}}$ \n",
    "สามารถทดลองใช้โดยตั้งค่า initializer เป็นแบบ GlorotNormal ทดลองใช้เพื่อเปรียบเทียบผลกับตัวอย่าง 3.6 \n",
    "\n",
    "3-6 ในการใช้ไลบรารี TF สามารถเปิดใช้วิธีโมเมนตัมในตัวหาค่าเหมาะที่สุดแบบ SGD() โดยกำหนดค่า momentum \n",
    "ให้มีค่ามากกว่าศูนย์ โดยการปรับค่าพารามิเตอร์ $w$ สำหรับเกรเดียนต์ $g$ จะเป็นดังนี้\n",
    "\n",
    "velocity = momentum*velocity - learning_rate*g\n",
    "w = w + velocity\n",
    "\n",
    "* เชื่อมโยงความสัมพันธ์ของโค้ดนี้กับเค้าโครงที่นำเสนอในหัวข้อย่อย 3.4.2 \n",
    "* ทดลองใช้โมเมนตัมกับข้อมูลในตัวอย่าง 3.6 เปรียบเทียบข้อมูลจากการฝึกเพื่อตรวจสอบว่าตัวหาค่าเหมาะที่สุดทำงานเร็วขึ้นหรือไม่\n",
    "\n",
    "3-7 วิธีการโมเมนตัมที่ถูกขยายเป็นขั้นสูงขึ้นเรียกว่า nesterov ซึ่งเลือกใช้ได้ในไลบรารี TF การเปิดใช้งานทำได้โดยตั้งค่า nesterov=True \n",
    "เป็นอาร์กิวเมนต์ของ SGD() กฏการปรับค่าเป็นดังนี้\n",
    "\n",
    "velocity = momentum * velocity - learning_rate * g\n",
    "w = w + momentum * velocity - learning_rate * g\n",
    "\n",
    "ทดลองใช้วิธี nesterov กับข้อมูลในตัวอย่าง 3.6\n",
    "\n",
    "3-8 จากตัวอย่าง 3.7 เลือกตัวหาค่าเหมาะที่สุดวิธีที่ท่านชอบ เขียนฟังก์ชันเรียกกลับเพื่อปรับค่าอัตราการเรียนรู้ให้ลดลงโดยใช้ไลบรารี\n",
    "tf.keras.callbacks.LearningRateScheduler()\n",
    "\n",
    "3-9 ทดลองปรับเปลี่ยนหรือเพิ่มเติมชั้นและไฮเปอร์พารามิเตอร์ของโมเดลในตัวอย่าง 3.8 ค่าความแม่นยำที่ดีที่สุดที่ท่านทำได้คือเท่าไร\n",
    "\n",
    "\n"
   ]
  },
  {
   "cell_type": "markdown",
   "metadata": {},
   "source": [
    "<p align=\"center\">\n",
    "<img src=\"https://drive.google.com/thumbnail?id=13bzT7Rmy3bzvE7TiS0yfQo94kpxMuipF\" alt=\"dewninja\"/>\n",
    "</p>\n",
    "<div align=\"center\">dew.ninja 2022</div>"
   ]
  }
 ],
 "metadata": {
  "kernelspec": {
   "display_name": "Python 3.8 (tensorflow)",
   "language": "python",
   "name": "tensorflow"
  },
  "language_info": {
   "codemirror_mode": {
    "name": "ipython",
    "version": 3
   },
   "file_extension": ".py",
   "mimetype": "text/x-python",
   "name": "python",
   "nbconvert_exporter": "python",
   "pygments_lexer": "ipython3",
   "version": "3.8.11"
  }
 },
 "nbformat": 4,
 "nbformat_minor": 4
}
