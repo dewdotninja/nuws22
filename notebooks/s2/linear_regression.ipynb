{
 "cells": [
  {
   "cell_type": "code",
   "execution_count": 1,
   "id": "1d875db1",
   "metadata": {},
   "outputs": [],
   "source": [
    "import numpy as np\n",
    "import tensorflow as tf"
   ]
  },
  {
   "cell_type": "markdown",
   "id": "b1431c25",
   "metadata": {},
   "source": [
    "## 2.1 การถดถอยเชิงเส้น\n",
    "\n",
    "อาจกล่าวได้ว่าการถดถอยเชิงเส้น (linear regression) คือปัญหาขั้นพื้นฐานที่สุดสำหรับการเรียนรู้เชิงลึก \n",
    "เป็นแนวทางเชิงเส้นในการโมเดลความสัมพันธ์ระหว่างผลตอบสนองสเกลาร์ (เอาต์พุต) กับตัวแปรอิสระที่อาจมีมากกว่าหนึ่งตัว \n",
    "ในกรณีที่เอาต์พุตมีมากกว่าหนึ่งจะเรียกว่า การถดถอยเชิงเส้นหลายตัวแปร (multivariable linear regression) \n",
    "ซึ่งจะไม่กล่าวถึงในหัวข้อนี้\n",
    "\n",
    "ปัญหาการถดถอยเชิงเส้นพื้นฐานที่ประกอบด้วยอินพุตสเกลาร์ $x$ เอาต์พุตสเกลาร์ $y$ สามารถโมเดลได้โดยสมการสัมพรรค \n",
    "$y = wx+b$ โดยค่าสเกลาร์ $w, b$ คือพารามิเตอร์ของโมเดล การหาค่าที่เหมาะที่สุดของ $w, b$ อาจทำได้โดยวิธีการทางสถิติ \n",
    "หรือวิธีกำลังสองน้อยสุด แต่สำหรับการศึกษาในบทนี้ต้องการต่อยอดไปยังการเรียนรู้เชิงลึก ดังนั้นจะใช้การฝึกโมเดลจากชุดข้อมูล\n",
    "\n",
    "เราสามารถใช้ขั้นตอนวิธีการถดถอยเชิงเส้นในการพยากรณ์ปัญหาพื้นฐานในชีวิตจริง เช่นราคาบ้าน การแพร่ระบาดของโรคติดต่อ \n",
    "แต่เพื่อความเข้าใจหลักการและสามารถต่อยอดไปยังโครงข่ายที่ซับซ้อนขึ้น จะยกตัวอย่างปัญหาจากข้อมูลสังเคราะห์ \n",
    "\n",
    "**ตัวอย่าง 2.1**\n",
    "\n",
    "สมมุติว่ามีระบบเชิงเส้นที่มีค่าพารามิเตอร์ดังนี้\n",
    "\n",
    "$$\n",
    "y = -1.2x + 2.4\n",
    "$$\n",
    "\n",
    "กำเนิดข้อมูล $(x,y)$ จำนวน 10 ตัวอย่างสำหรับใช้ในการฝึก \n"
   ]
  },
  {
   "cell_type": "code",
   "execution_count": 2,
   "id": "4e72b04d",
   "metadata": {},
   "outputs": [
    {
     "name": "stdout",
     "output_type": "stream",
     "text": [
      "xs =  [ 1.  2.  3.  4.  5.  6.  7.  8.  9. 10.]\n",
      "ys =  [ 1.2  0.  -1.2 -2.4 -3.6 -4.8 -6.  -7.2 -8.4 -9.6]\n"
     ]
    }
   ],
   "source": [
    "xs = np.arange(1, 11, dtype=float)\n",
    "ys = -1.2*xs + 2.4\n",
    "print(\"xs = \", xs)\n",
    "print(\"ys = \", ys)"
   ]
  },
  {
   "cell_type": "markdown",
   "id": "79054bbf",
   "metadata": {},
   "source": [
    "สร้างโครงข่ายประสาทเทียมอย่างง่ายสุดที่มีเพียงชั้นเดียวและเซลล์ประสาทเดียว และรูปร่างของอินพุตมีเพียง 1 ค่า"
   ]
  },
  {
   "cell_type": "code",
   "execution_count": 3,
   "id": "0b4c13f1",
   "metadata": {},
   "outputs": [],
   "source": [
    "model = tf.keras.Sequential([tf.keras.layers.Dense(units=1, input_shape=[1])])"
   ]
  },
  {
   "cell_type": "markdown",
   "id": "6c363bed",
   "metadata": {},
   "source": [
    "ในการคอมไพล์โมเดล จะต้องกำหนดฟังก์ชันการสูญเสีย (loss function) และตัวหาค่าเหมาะที่สุด (optimizer) ที่ต้องการใช้ สำหรับปัญหาการถดถอยเชิงเส้น เหมาะสมที่จะใช้ฟังก์ชันการสูญเสียแบบ ค่าผิดพลาดกำลังสองเฉลี่ย (mean squared error) และตัวหาค่าเหมาะที่สุดแบบลดค่าเกรเดียนต์สโทแคสติก (stochastic gradient descent) ซึ่งจะได้อธิบายเพิ่มเติมภายหลัง ในขั้นนี้เราเพียงใส่อาร์กิวเมนต์ตามรูปแบบที่ไลบรารีกำหนด"
   ]
  },
  {
   "cell_type": "code",
   "execution_count": 4,
   "id": "572c0280",
   "metadata": {},
   "outputs": [],
   "source": [
    "model.compile(optimizer='sgd', loss='mean_squared_error')"
   ]
  },
  {
   "cell_type": "markdown",
   "id": "f32efdab",
   "metadata": {},
   "source": [
    "หลังจากคอมไพล์แล้ว ขั้นตอนต่อไปคือการฝึกโมเดลโดยเรียก model.fit() ใส่อาร์กิวเมนต์เป็นแอเรย์อินพุต เอาต์พุต จำนวนรอบที่ต้องการฝึก เราจะลองแสดงเอาต์พุดจากการฝึก 10 รอบ"
   ]
  },
  {
   "cell_type": "code",
   "execution_count": 5,
   "id": "00b00180",
   "metadata": {},
   "outputs": [
    {
     "name": "stdout",
     "output_type": "stream",
     "text": [
      "Epoch 1/10\n",
      "1/1 [==============================] - 0s 465ms/step - loss: 26.5095\n",
      "Epoch 2/10\n",
      "1/1 [==============================] - 0s 5ms/step - loss: 2.2752\n",
      "Epoch 3/10\n",
      "1/1 [==============================] - 0s 4ms/step - loss: 1.1544\n",
      "Epoch 4/10\n",
      "1/1 [==============================] - 0s 7ms/step - loss: 1.0942\n",
      "Epoch 5/10\n",
      "1/1 [==============================] - 0s 12ms/step - loss: 1.0827\n",
      "Epoch 6/10\n",
      "1/1 [==============================] - 0s 5ms/step - loss: 1.0735\n",
      "Epoch 7/10\n",
      "1/1 [==============================] - 0s 6ms/step - loss: 1.0645\n",
      "Epoch 8/10\n",
      "1/1 [==============================] - 0s 6ms/step - loss: 1.0556\n",
      "Epoch 9/10\n",
      "1/1 [==============================] - 0s 8ms/step - loss: 1.0467\n",
      "Epoch 10/10\n",
      "1/1 [==============================] - 0s 8ms/step - loss: 1.0380\n"
     ]
    },
    {
     "data": {
      "text/plain": [
       "<keras.callbacks.History at 0x28f6a8cbfd0>"
      ]
     },
     "execution_count": 5,
     "metadata": {},
     "output_type": "execute_result"
    }
   ],
   "source": [
    "model.fit(xs, ys, epochs=10)"
   ]
  },
  {
   "cell_type": "markdown",
   "id": "a28e4489",
   "metadata": {},
   "source": [
    "จากเอาต์พุตจะเห็นว่าค่าการสูญเสียลดลง หมายความว่าตัวหาค่าเหมาะที่สุดทำงานอย่างถูกต้องเพื่อทำให้การพยากรณ์มีค่าเข้าใกล้ค่าจริงมากขึ้น กล่าวคือโมเดลกำลังเรียนรู้จากชุดข้อมูลที่ใช้ในการฝึก\n",
    "\n",
    "ต้องการฝึกโมเดลต่ออีก 1000 รอบ หากไม่ต้องการดูเอาต์พุตสามารถกำหนด verbose = 0"
   ]
  },
  {
   "cell_type": "code",
   "execution_count": 6,
   "id": "b864e757",
   "metadata": {},
   "outputs": [
    {
     "data": {
      "text/plain": [
       "<keras.callbacks.History at 0x28f6ac91460>"
      ]
     },
     "execution_count": 6,
     "metadata": {},
     "output_type": "execute_result"
    }
   ],
   "source": [
    "model.fit(xs, ys, epochs=1000,verbose=0)"
   ]
  },
  {
   "cell_type": "markdown",
   "id": "25f444a2",
   "metadata": {},
   "source": [
    "เมื่อฝึกจำนวนรอบตามต้องการแล้ว หากต้องการพยากรณ์เอาต์พุตสำหรับค่าอินพุตค่าหนึ่ง ใช่คำสั่ง model.predict() \n",
    "ตัวอย่างเช่นพยากรณ์ค่า $y$ สำหรับ $x = 20$"
   ]
  },
  {
   "cell_type": "code",
   "execution_count": 7,
   "id": "26bd0728",
   "metadata": {},
   "outputs": [
    {
     "name": "stdout",
     "output_type": "stream",
     "text": [
      "1/1 [==============================] - 0s 298ms/step\n",
      "ค่า y จากการพยากรณ์ =  [[-21.538969]]\n"
     ]
    }
   ],
   "source": [
    "y_hat = model.predict([20.0])\n",
    "print(\"ค่า y จากการพยากรณ์ = \",y_hat)"
   ]
  },
  {
   "cell_type": "markdown",
   "id": "c8fcadcf",
   "metadata": {},
   "source": [
    "เปรียบเทียบกับค่าจริงจาก $y = -1.2x + 2.4$ "
   ]
  },
  {
   "cell_type": "code",
   "execution_count": 8,
   "id": "5181ba01",
   "metadata": {},
   "outputs": [
    {
     "name": "stdout",
     "output_type": "stream",
     "text": [
      "ค่า y จากสมการจริง =  -21.6\n"
     ]
    }
   ],
   "source": [
    "y_true = -1.2*20.0 + 2.4\n",
    "print(\"ค่า y จากสมการจริง = \",y_true)"
   ]
  },
  {
   "cell_type": "markdown",
   "id": "cb3ccfe7",
   "metadata": {},
   "source": [
    "จะเห็นว่าค่าที่พยากรณ์มีค่าใกล้เคียงกับค่าจริง แต่ไม่เท่ากันโดยสมบูรณ์ หากต้องการแสดงค่าพารามิเตอร์ของโมเดลหลังจากการฝึกใช้คำสั่ง"
   ]
  },
  {
   "cell_type": "code",
   "execution_count": 9,
   "id": "7679c923",
   "metadata": {},
   "outputs": [
    {
     "data": {
      "text/plain": [
       "[array([[-1.1953189]], dtype=float32), array([2.3674111], dtype=float32)]"
      ]
     },
     "execution_count": 9,
     "metadata": {},
     "output_type": "execute_result"
    }
   ],
   "source": [
    "model.get_weights()"
   ]
  },
  {
   "cell_type": "markdown",
   "id": "da4560b3",
   "metadata": {},
   "source": [
    "ซึ่งมีความแตกต่างเล็กน้อยจากพารามิเตอร์จริงคือ $w = -1.2, b = 2.4$"
   ]
  },
  {
   "cell_type": "markdown",
   "id": "6b8dc871",
   "metadata": {},
   "source": [
    "<p align=\"center\">\n",
    "<img src=\"https://drive.google.com/thumbnail?id=13bzT7Rmy3bzvE7TiS0yfQo94kpxMuipF\" alt=\"dewninja\"/>\n",
    "</p>\n",
    "<div align=\"center\">dew.ninja 2022</div>"
   ]
  },
  {
   "cell_type": "code",
   "execution_count": null,
   "id": "9948e761",
   "metadata": {},
   "outputs": [],
   "source": []
  }
 ],
 "metadata": {
  "kernelspec": {
   "display_name": "Python 3.8 (tensorflow)",
   "language": "python",
   "name": "tensorflow"
  },
  "language_info": {
   "codemirror_mode": {
    "name": "ipython",
    "version": 3
   },
   "file_extension": ".py",
   "mimetype": "text/x-python",
   "name": "python",
   "nbconvert_exporter": "python",
   "pygments_lexer": "ipython3",
   "version": "3.8.11"
  }
 },
 "nbformat": 4,
 "nbformat_minor": 5
}
