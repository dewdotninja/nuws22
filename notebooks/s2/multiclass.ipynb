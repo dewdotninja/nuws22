{
 "cells": [
  {
   "cell_type": "code",
   "execution_count": 2,
   "metadata": {},
   "outputs": [],
   "source": [
    "import numpy as np\n",
    "import matplotlib.pyplot as plt\n",
    "import tensorflow as tf\n",
    "import sklearn\n",
    "import sklearn.datasets\n",
    "import sklearn.linear_model"
   ]
  },
  {
   "cell_type": "markdown",
   "metadata": {},
   "source": [
    "## 2.4 การจำแนกหลายประเภท\n",
    "\n",
    "จากปัญหาการจำแนกทวิภาค เราสามารถขยายไปยังโมเดล DNN สำหรับการจำแนกหลายประเภท \n",
    "โครงสร้างของโมเดลไม่มีความแตกต่างจากเดิม \n",
    "ยกเว้นในชั้นสุดท้ายที่เอาต์พุตจะต้องมีจำนวนเท่ากับประเภทของข้อมูลที่ต้องการจำแนก \n",
    "\n",
    "### 2.4.1 ฟังก์ชันกระตุ้นแบบซอฟต์แมกซ์\n",
    "\n",
    "สังเกตว่าฟังก์ชันซิกมอยด์จะสามารถใช้จำแนกประเภทข้อมูลออกเป็น 2 กลุ่มตามค่าของความน่าจะเป็น \n",
    "หากต้องการจำแนกประเภทมากกว่า 2 กลุ่มจะใช้ฟังก์ชัน ซอฟต์แมกซ์ (softmax) \n",
    "ซึ่งเป็นการขยายฟังก์ชันลอจิสติกไปยังหลายมิติ นิยามมาตรฐานของฟังก์ชันซอฟต์แมกซ์ \n",
    "$\\sigma : \\mathbf{R}^K \\rightarrow [0,1]^K$ เป็นดังนี้\n",
    "$$\n",
    "\\sigma (Z)_i = \\frac{e^{z_i}}{\\sum_{j=1}^Ke^{z_j}}, \\;i=1,\\ldots,K, \\; Z = (z_1,\\ldots,z_K) \\in \\mathbf{R}^K \\tag{2.49}\n",
    "$$\n",
    "\n",
    "อธิบายเป็นคำพูดได้ว่าเป็นการใช้ฟังก์ชันเลขชี้กำลังกับแต่ละสมาชิก $z_i$  ของเวกเตอร์ $Z$ \n",
    "และปรับค่าให้เป็นบรรทัดฐานโดยหารด้วยผลรวมของเลขชี้กำลังทั้งหมด \n",
    "ซึ่งมีผลทำให้ผลรวมของสมาชิกทั้งหมดในเวกเตอร์เอาต์พุตเท่ากับ 1 \n",
    "ดังนั้นจึงเหมาะสมกับการจำแนกหลายกลุ่มโดยความน่าจะเป็นของเอาต์พุต\n",
    "\n",
    "การสร้างโมเดลสำหรับปัญหาการจำแนกหลายประเภทโดยใช้ไลบรารี TF จะมีลักษณะเช่นเดียวกับตัวอย่าง 2.5 \n",
    "สิ่งที่แตกต่างคือชั้นสุดท้ายจะมีเซลล์เอาต์พุตเท่ากับจำนวนของประเภททั้งหมดที่ต้องการจำแนก และใช้ฟังก์ชันกระตุ้นแบบซอฟต์แมกซ์\n",
    "\n",
    "**ตัวอย่าง 2.6** \n",
    "\n",
    "ในไลบรารี TF มีข้อมูลสนับสนุนการศึกษาด้านการเรียนรู้เชิงลึกอยู่หลายชุดที่สามารถโหลดมาใช้งานได้ทันที ตัวอย่างหนึ่งคือการจำแนกเครื่องแต่งกาย \n",
    "10 ประเภท โดยชุดข้อมูลมีชื่อเรียกว่า fashion_mnist (https://github.com/zalandoresearch/fashion-mnist) \n",
    "จะใช้ข้อมูลนี้เพื่อสาธิตการสร้างโมเดล DNN สำหรับจำแนกเครื่องแต่งกาย \n",
    "\n",
    "นำเข้าไลบรารีทั้งหมดที่ใช้ในตัวอย่างนี้"
   ]
  },
  {
   "cell_type": "code",
   "execution_count": 3,
   "metadata": {},
   "outputs": [],
   "source": [
    "import numpy as np\n",
    "import matplotlib.pyplot as plt\n",
    "import tensorflow as tf\n",
    "import pandas as pd\n",
    "from tensorflow.keras.models import Sequential\n",
    "from tensorflow.keras.layers import Dense, Flatten, Softmax\n",
    "from tensorflow.keras.preprocessing import image"
   ]
  },
  {
   "cell_type": "markdown",
   "metadata": {},
   "source": [
    "โหลดข้อมูล fashion_mnist จากไลบรารี ครั้งแรกจะใช้เวลาโหลดข้อมูลจากอินเทอร์เน็ตมาติดตั้งในเครื่องของเรา \n",
    "ในการรันเซลล์ครั้งต่อไปจะใช้ข้อมูลที่เก็บไว้ในเครื่อง"
   ]
  },
  {
   "cell_type": "code",
   "execution_count": 4,
   "metadata": {},
   "outputs": [],
   "source": [
    "fashion_mnist_data = tf.keras.datasets.fashion_mnist\n",
    "(train_images, train_labels), (test_images, test_labels) = fashion_mnist_data.load_data()"
   ]
  },
  {
   "cell_type": "markdown",
   "metadata": {},
   "source": [
    "ตรวจสอบรูปของข้อมูลการฝึกจะเห็นว่าเป็นภาพที่มีความกว้างและยาก 28 พิกเซลจำนวน 60000 ภาพ ส่วนข้อมูลสำหรับทดสอบมีจำนวน 10000 ภาพ"
   ]
  },
  {
   "cell_type": "code",
   "execution_count": 5,
   "metadata": {},
   "outputs": [
    {
     "data": {
      "text/plain": [
       "(60000, 28, 28)"
      ]
     },
     "execution_count": 5,
     "metadata": {},
     "output_type": "execute_result"
    }
   ],
   "source": [
    "train_images.shape"
   ]
  },
  {
   "cell_type": "code",
   "execution_count": 6,
   "metadata": {},
   "outputs": [
    {
     "data": {
      "text/plain": [
       "(10000, 28, 28)"
      ]
     },
     "execution_count": 6,
     "metadata": {},
     "output_type": "execute_result"
    }
   ],
   "source": [
    "test_images.shape"
   ]
  },
  {
   "cell_type": "markdown",
   "metadata": {},
   "source": [
    "นิยามเวกเตอร์ของเลเบลที่สอดคล้องกับข้อมูล"
   ]
  },
  {
   "cell_type": "code",
   "execution_count": 7,
   "metadata": {},
   "outputs": [],
   "source": [
    "labels = [\n",
    "    'T-shirt/top',\n",
    "    'Trouser',\n",
    "    'Pullover',\n",
    "    'Dress',\n",
    "    'Coat',\n",
    "    'Sandal',\n",
    "    'Shirt',\n",
    "    'Sneaker',\n",
    "    'Bag',\n",
    "    'Ankle boot'\n",
    "]"
   ]
  },
  {
   "cell_type": "markdown",
   "metadata": {},
   "source": [
    "ปรับมาตราส่วนของภาพเพื่อให้แต่ละพิกเซลมีค่าระหว่าง 0 - 1 "
   ]
  },
  {
   "cell_type": "code",
   "execution_count": 8,
   "metadata": {},
   "outputs": [],
   "source": [
    "train_images = train_images/255.\n",
    "test_images = test_images/255."
   ]
  },
  {
   "cell_type": "markdown",
   "metadata": {},
   "source": [
    "เราสามารถดูภาพที่ใช้ในการฝึกได้โดยโค้ดดังนี้ (เปลี่ยนค่าตัวชี้ i ตามต้องการ)"
   ]
  },
  {
   "cell_type": "code",
   "execution_count": 9,
   "metadata": {},
   "outputs": [
    {
     "data": {
      "image/png": "[encoded data removed]",
      "text/plain": [
       "<Figure size 432x288 with 1 Axes>"
      ]
     },
     "metadata": {
      "needs_background": "light"
     },
     "output_type": "display_data"
    },
    {
     "name": "stdout",
     "output_type": "stream",
     "text": [
      "label: T-shirt/top\n"
     ]
    }
   ],
   "source": [
    "i = 2 # change to observe another image\n",
    "img = train_images[i,:,:]\n",
    "plt.imshow(img)\n",
    "plt.show()\n",
    "print(f\"label: {labels[train_labels[i]]}\")"
   ]
  },
  {
   "cell_type": "markdown",
   "metadata": {},
   "source": [
    "สร้างโมเดล DNN 3 ชั้นแฝงที่มีจำนวนเซลล์ 16, 16, 10 มีรูปของอินพุตเท่ากับขนาดความกว้างและยาวของภาพ และฟังก์ชันกระตุ้นที่เอาต์พุตแบบซอฟต์แมกซ์"
   ]
  },
  {
   "cell_type": "code",
   "execution_count": 10,
   "metadata": {},
   "outputs": [],
   "source": [
    "model = Sequential([\n",
    "    Flatten(input_shape=(28,28)),\n",
    "    Dense(16, activation='relu'),\n",
    "    Dense(16, activation = 'relu'),\n",
    "    Dense(10, activation = 'softmax')\n",
    "])"
   ]
  },
  {
   "cell_type": "code",
   "execution_count": 11,
   "metadata": {},
   "outputs": [
    {
     "name": "stdout",
     "output_type": "stream",
     "text": [
      "Model: \"sequential\"\n",
      "_________________________________________________________________\n",
      " Layer (type)                Output Shape              Param #   \n",
      "=================================================================\n",
      " flatten (Flatten)           (None, 784)               0         \n",
      "                                                                 \n",
      " dense (Dense)               (None, 16)                12560     \n",
      "                                                                 \n",
      " dense_1 (Dense)             (None, 16)                272       \n",
      "                                                                 \n",
      " dense_2 (Dense)             (None, 10)                170       \n",
      "                                                                 \n",
      "=================================================================\n",
      "Total params: 13,002\n",
      "Trainable params: 13,002\n",
      "Non-trainable params: 0\n",
      "_________________________________________________________________\n"
     ]
    }
   ],
   "source": [
    "model.summary()"
   ]
  },
  {
   "cell_type": "markdown",
   "metadata": {},
   "source": [
    "สำหรับคำสั่งคอมไพล์ จุดที่แตกต่างคือฟังก์ชันสูญเสียเลือกเป็นแบบ 'sparse_categorical_crossentropy' "
   ]
  },
  {
   "cell_type": "code",
   "execution_count": 12,
   "metadata": {},
   "outputs": [],
   "source": [
    "model.compile(optimizer='sgd',\n",
    "             loss='sparse_categorical_crossentropy',\n",
    "             metrics=['accuracy'])"
   ]
  },
  {
   "cell_type": "markdown",
   "metadata": {},
   "source": [
    "ทดลองฝึกโมเดลเป็นจำนวน 10 รอบโดยเก็บข้อมูลการฝึกในดิกชันนารี history"
   ]
  },
  {
   "cell_type": "code",
   "execution_count": 13,
   "metadata": {},
   "outputs": [
    {
     "name": "stdout",
     "output_type": "stream",
     "text": [
      "Epoch 1/10\n",
      "235/235 - 1s - loss: 1.9278 - accuracy: 0.3280 - 787ms/epoch - 3ms/step\n",
      "Epoch 2/10\n",
      "235/235 - 0s - loss: 1.1528 - accuracy: 0.6269 - 306ms/epoch - 1ms/step\n",
      "Epoch 3/10\n",
      "235/235 - 0s - loss: 0.8838 - accuracy: 0.6619 - 301ms/epoch - 1ms/step\n",
      "Epoch 4/10\n",
      "235/235 - 0s - loss: 0.7913 - accuracy: 0.6962 - 305ms/epoch - 1ms/step\n",
      "Epoch 5/10\n",
      "235/235 - 0s - loss: 0.7340 - accuracy: 0.7237 - 304ms/epoch - 1ms/step\n",
      "Epoch 6/10\n",
      "235/235 - 0s - loss: 0.6920 - accuracy: 0.7441 - 414ms/epoch - 2ms/step\n",
      "Epoch 7/10\n",
      "235/235 - 0s - loss: 0.6591 - accuracy: 0.7613 - 401ms/epoch - 2ms/step\n",
      "Epoch 8/10\n",
      "235/235 - 0s - loss: 0.6325 - accuracy: 0.7734 - 452ms/epoch - 2ms/step\n",
      "Epoch 9/10\n",
      "235/235 - 0s - loss: 0.6093 - accuracy: 0.7855 - 459ms/epoch - 2ms/step\n",
      "Epoch 10/10\n",
      "235/235 - 0s - loss: 0.5892 - accuracy: 0.7943 - 372ms/epoch - 2ms/step\n"
     ]
    }
   ],
   "source": [
    "history=model.fit(train_images[...,np.newaxis], train_labels, epochs=10, batch_size=256, verbose=2)"
   ]
  },
  {
   "cell_type": "markdown",
   "metadata": {},
   "source": [
    "การพล็อตข้อมูลการฝึกในตัวอย่างนี้จะใช้ไลบรารี pandas โดยแปลงตัวแปร history เป็นเฟรมข้อมูล"
   ]
  },
  {
   "cell_type": "code",
   "execution_count": 14,
   "metadata": {},
   "outputs": [
    {
     "data": {
      "text/html": [
       "<div>\n",
       "<style scoped>\n",
       "    .dataframe tbody tr th:only-of-type {\n",
       "        vertical-align: middle;\n",
       "    }\n",
       "\n",
       "    .dataframe tbody tr th {\n",
       "        vertical-align: top;\n",
       "    }\n",
       "\n",
       "    .dataframe thead th {\n",
       "        text-align: right;\n",
       "    }\n",
       "</style>\n",
       "<table border=\"1\" class=\"dataframe\">\n",
       "  <thead>\n",
       "    <tr style=\"text-align: right;\">\n",
       "      <th></th>\n",
       "      <th>loss</th>\n",
       "      <th>accuracy</th>\n",
       "    </tr>\n",
       "  </thead>\n",
       "  <tbody>\n",
       "    <tr>\n",
       "      <th>0</th>\n",
       "      <td>1.927842</td>\n",
       "      <td>0.328033</td>\n",
       "    </tr>\n",
       "    <tr>\n",
       "      <th>1</th>\n",
       "      <td>1.152767</td>\n",
       "      <td>0.626933</td>\n",
       "    </tr>\n",
       "    <tr>\n",
       "      <th>2</th>\n",
       "      <td>0.883824</td>\n",
       "      <td>0.661950</td>\n",
       "    </tr>\n",
       "    <tr>\n",
       "      <th>3</th>\n",
       "      <td>0.791277</td>\n",
       "      <td>0.696183</td>\n",
       "    </tr>\n",
       "    <tr>\n",
       "      <th>4</th>\n",
       "      <td>0.734011</td>\n",
       "      <td>0.723717</td>\n",
       "    </tr>\n",
       "  </tbody>\n",
       "</table>\n",
       "</div>"
      ],
      "text/plain": [
       "       loss  accuracy\n",
       "0  1.927842  0.328033\n",
       "1  1.152767  0.626933\n",
       "2  0.883824  0.661950\n",
       "3  0.791277  0.696183\n",
       "4  0.734011  0.723717"
      ]
     },
     "execution_count": 14,
     "metadata": {},
     "output_type": "execute_result"
    }
   ],
   "source": [
    "df = pd.DataFrame(history.history)\n",
    "df.head()"
   ]
  },
  {
   "cell_type": "markdown",
   "metadata": {},
   "source": [
    "พล็อตความแม่นยำและค่าสูญเสียเทียบกับรอบการฝึกได้ดังในรูปที่ 2.25 และ 2.26 ตามลำดับ"
   ]
  },
  {
   "cell_type": "code",
   "execution_count": 15,
   "metadata": {},
   "outputs": [
    {
     "data": {
      "text/plain": [
       "[Text(0.5, 0, 'Epochs'), Text(0, 0.5, 'Accuracy')]"
      ]
     },
     "execution_count": 15,
     "metadata": {},
     "output_type": "execute_result"
    },
    {
     "data": {
      "image/png": "[encoded data removed]",
      "text/plain": [
       "<Figure size 432x288 with 1 Axes>"
      ]
     },
     "metadata": {
      "needs_background": "light"
     },
     "output_type": "display_data"
    }
   ],
   "source": [
    "acc_plot = df.plot(y=\"accuracy\",title=\"Accuracy vs. Epochs\", legend=False)\n",
    "acc_plot.set(xlabel=\"Epochs\",ylabel=\"Accuracy\")"
   ]
  },
  {
   "cell_type": "markdown",
   "metadata": {
    "scrolled": true
   },
   "source": [
    "รูปที่ 2.25 ค่าความแม่นยำเทียบกับจำนวนรอบ"
   ]
  },
  {
   "cell_type": "code",
   "execution_count": 16,
   "metadata": {},
   "outputs": [
    {
     "data": {
      "text/plain": [
       "[Text(0.5, 0, 'Epochs'), Text(0, 0.5, 'Loss')]"
      ]
     },
     "execution_count": 16,
     "metadata": {},
     "output_type": "execute_result"
    },
    {
     "data": {
      "image/png": "[encoded data removed]",
      "text/plain": [
       "<Figure size 432x288 with 1 Axes>"
      ]
     },
     "metadata": {
      "needs_background": "light"
     },
     "output_type": "display_data"
    }
   ],
   "source": [
    "loss_plot = df.plot(y=\"loss\",title=\"Loss vs. Epochs\", legend=False)\n",
    "loss_plot.set(xlabel=\"Epochs\",ylabel=\"Loss\")"
   ]
  },
  {
   "cell_type": "markdown",
   "metadata": {},
   "source": [
    "รูปที่ 2.26 ค่าฟังก์ชันสูญเสียเทียบกับจำนวนรอบ\n",
    "\n",
    "ประเมินความแม่นยำและค่าการสูญเสียโดยใช้ภาพสำหรับทดสอบ พบว่าค่าความแม่นยำน้อยกว่าที่ได้จากข้อมูลการฝึกเล็กน้อย"
   ]
  },
  {
   "cell_type": "code",
   "execution_count": 17,
   "metadata": {},
   "outputs": [
    {
     "name": "stdout",
     "output_type": "stream",
     "text": [
      "313/313 [==============================] - 1s 1ms/step - loss: 0.6064 - accuracy: 0.7901\n"
     ]
    },
    {
     "data": {
      "text/plain": [
       "[0.6064181923866272, 0.7900999784469604]"
      ]
     },
     "execution_count": 17,
     "metadata": {},
     "output_type": "execute_result"
    }
   ],
   "source": [
    "model.evaluate(test_images[..., np.newaxis],test_labels)"
   ]
  },
  {
   "cell_type": "markdown",
   "metadata": {},
   "source": [
    "ตรวจสอบว่าโมเดลสามารถพยากรณ์ได้ถูกต้องหรือไม่จากภาพที่สุ่มจากข้อมูลชุดทดสอบ"
   ]
  },
  {
   "cell_type": "code",
   "execution_count": 18,
   "metadata": {},
   "outputs": [
    {
     "data": {
      "image/png": "[encoded data removed]",
      "text/plain": [
       "<Figure size 432x288 with 1 Axes>"
      ]
     },
     "metadata": {
      "needs_background": "light"
     },
     "output_type": "display_data"
    },
    {
     "name": "stdout",
     "output_type": "stream",
     "text": [
      "Label : Sandal\n"
     ]
    }
   ],
   "source": [
    "random_inx = np.random.choice(test_images.shape[0])\n",
    "\n",
    "test_image = test_images[random_inx]\n",
    "plt.imshow(test_image)\n",
    "plt.show()\n",
    "print(f\"Label : {labels[test_labels[random_inx]]}\")"
   ]
  },
  {
   "cell_type": "code",
   "execution_count": 19,
   "metadata": {},
   "outputs": [
    {
     "name": "stdout",
     "output_type": "stream",
     "text": [
      "1/1 [==============================] - 0s 219ms/step\n",
      "Model prediction : Sandal\n"
     ]
    }
   ],
   "source": [
    "pred = model.predict(test_image[np.newaxis,...,np.newaxis])\n",
    "print(f\"Model prediction : {labels[np.argmax(pred)]}\")"
   ]
  },
  {
   "cell_type": "markdown",
   "metadata": {},
   "source": [
    "ทดลองรันสองเซลล์ด้านบนนี้หลายครั้งเพื่อเปลี่ยนภาพทดสอบ พิจารณาให้เหตุผลภาพที่โมเดลพยากรณ์ไม่ถูกต้อง"
   ]
  },
  {
   "cell_type": "code",
   "execution_count": null,
   "metadata": {},
   "outputs": [],
   "source": []
  },
  {
   "cell_type": "markdown",
   "metadata": {},
   "source": [
    "<p align=\"center\">\n",
    "<img src=\"https://drive.google.com/thumbnail?id=13bzT7Rmy3bzvE7TiS0yfQo94kpxMuipF\" alt=\"dewninja\"/>\n",
    "</p>\n",
    "<div align=\"center\">dew.ninja 2022</div>"
   ]
  },
  {
   "cell_type": "code",
   "execution_count": null,
   "metadata": {},
   "outputs": [],
   "source": []
  }
 ],
 "metadata": {
  "kernelspec": {
   "display_name": "Python 3.8 (tensorflow)",
   "language": "python",
   "name": "tensorflow"
  },
  "language_info": {
   "codemirror_mode": {
    "name": "ipython",
    "version": 3
   },
   "file_extension": ".py",
   "mimetype": "text/x-python",
   "name": "python",
   "nbconvert_exporter": "python",
   "pygments_lexer": "ipython3",
   "version": "3.8.11"
  }
 },
 "nbformat": 4,
 "nbformat_minor": 4
}
